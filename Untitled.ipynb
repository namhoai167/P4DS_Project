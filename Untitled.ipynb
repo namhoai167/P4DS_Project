{
 "cells": [
  {
   "cell_type": "markdown",
   "id": "1573e225-fdf2-4225-b7ec-88a4adc24da5",
   "metadata": {},
   "source": [
    "# Import"
   ]
  },
  {
   "cell_type": "code",
   "execution_count": 2,
   "id": "92a1d715-6737-4faa-ac92-8b1be84c42ad",
   "metadata": {},
   "outputs": [],
   "source": [
    "import numpy as np\n",
    "import pandas as pd\n",
    "import matplotlib.pyplot as plt"
   ]
  },
  {
   "cell_type": "markdown",
   "id": "ce1d00e5-3bc1-4c75-92cd-9225f23100e3",
   "metadata": {},
   "source": [
    "# Thu thập dữ liệu"
   ]
  },
  {
   "cell_type": "markdown",
   "id": "0db8d927-8341-4e03-88b2-db6125a42a42",
   "metadata": {},
   "source": [
    "## Dữ liệu của bạn là về chủ đề gì và bạn lấy từ nguồn nào?\n",
    "\n",
    "##  Người ta có cho phép bạn dùng dữ liệu như này không?\n",
    "Ví dụ, bạn có thể xem thử license của dữ liệu là gì\n",
    "\n",
    "##  Người ta thu thập dữ liệu như thế nào?"
   ]
  },
  {
   "cell_type": "markdown",
   "id": "8e53f3d5-9c9a-4832-adf7-a8892adc52e0",
   "metadata": {},
   "source": [
    "# Khám phá dữ liệu"
   ]
  },
  {
   "cell_type": "code",
   "execution_count": 3,
   "id": "bf68a941-a72a-402a-b198-a0aaea4d7de2",
   "metadata": {},
   "outputs": [],
   "source": [
    "ratings_df = pd.read_csv('./data/IMDb ratings.csv')"
   ]
  },
  {
   "cell_type": "code",
   "execution_count": 4,
   "id": "3f9d3f3c-6b4c-4823-8d5d-0ce3b95b37c4",
   "metadata": {},
   "outputs": [
    {
     "data": {
      "text/plain": [
       "(85855, 49)"
      ]
     },
     "execution_count": 4,
     "metadata": {},
     "output_type": "execute_result"
    }
   ],
   "source": [
    "ratings_df.shape"
   ]
  },
  {
   "cell_type": "markdown",
   "id": "6f18e6a4-f293-4ad9-9de6-547ce169f113",
   "metadata": {},
   "source": [
    "## Dữ liệu có bao nhiêu dòng và bao nhiêu cột?\n",
    "Dữ liệu điểm ratings có 85855 dòng và 49 cột"
   ]
  },
  {
   "cell_type": "code",
   "execution_count": null,
   "id": "bbf4152d-f0a1-434e-8b6e-65b2cbeb15a8",
   "metadata": {},
   "outputs": [],
   "source": []
  },
  {
   "cell_type": "markdown",
   "id": "cedc3cb8-feee-4b82-8d33-5499355449e8",
   "metadata": {},
   "source": [
    "## Mỗi dòng có ý nghĩa gì? Có vấn đề các dòng có ý nghĩa khác nhau không?"
   ]
  },
  {
   "cell_type": "code",
   "execution_count": 6,
   "id": "94ea93a9-397d-4dec-aca5-14ad611a9f38",
   "metadata": {},
   "outputs": [
    {
     "data": {
      "text/plain": [
       "False"
      ]
     },
     "execution_count": 6,
     "metadata": {},
     "output_type": "execute_result"
    }
   ],
   "source": [
    "ratings_df.duplicated().any()"
   ]
  },
  {
   "cell_type": "markdown",
   "id": "5c75464f-b74a-4bf7-ba2f-b85ef2d34e44",
   "metadata": {},
   "source": [
    "## Dữ liệu có các dòng bị lặp không?\n",
    "Dữ liệu điểm ratings không có các dòng bị lặp"
   ]
  },
  {
   "cell_type": "code",
   "execution_count": 7,
   "id": "18ff8d0b-ec1e-497a-a226-4ec12eba0e08",
   "metadata": {},
   "outputs": [
    {
     "name": "stdout",
     "output_type": "stream",
     "text": [
      "<class 'pandas.core.frame.DataFrame'>\n",
      "RangeIndex: 85855 entries, 0 to 85854\n",
      "Data columns (total 49 columns):\n",
      " #   Column                     Non-Null Count  Dtype  \n",
      "---  ------                     --------------  -----  \n",
      " 0   imdb_title_id              85855 non-null  object \n",
      " 1   weighted_average_vote      85855 non-null  float64\n",
      " 2   total_votes                85855 non-null  int64  \n",
      " 3   mean_vote                  85855 non-null  float64\n",
      " 4   median_vote                85855 non-null  float64\n",
      " 5   votes_10                   85855 non-null  int64  \n",
      " 6   votes_9                    85855 non-null  int64  \n",
      " 7   votes_8                    85855 non-null  int64  \n",
      " 8   votes_7                    85855 non-null  int64  \n",
      " 9   votes_6                    85855 non-null  int64  \n",
      " 10  votes_5                    85855 non-null  int64  \n",
      " 11  votes_4                    85855 non-null  int64  \n",
      " 12  votes_3                    85855 non-null  int64  \n",
      " 13  votes_2                    85855 non-null  int64  \n",
      " 14  votes_1                    85855 non-null  int64  \n",
      " 15  allgenders_0age_avg_vote   33359 non-null  float64\n",
      " 16  allgenders_0age_votes      33359 non-null  float64\n",
      " 17  allgenders_18age_avg_vote  85149 non-null  float64\n",
      " 18  allgenders_18age_votes     85149 non-null  float64\n",
      " 19  allgenders_30age_avg_vote  85845 non-null  float64\n",
      " 20  allgenders_30age_votes     85845 non-null  float64\n",
      " 21  allgenders_45age_avg_vote  85775 non-null  float64\n",
      " 22  allgenders_45age_votes     85775 non-null  float64\n",
      " 23  males_allages_avg_vote     85854 non-null  float64\n",
      " 24  males_allages_votes        85854 non-null  float64\n",
      " 25  males_0age_avg_vote        27411 non-null  float64\n",
      " 26  males_0age_votes           27411 non-null  float64\n",
      " 27  males_18age_avg_vote       84390 non-null  float64\n",
      " 28  males_18age_votes          84390 non-null  float64\n",
      " 29  males_30age_avg_vote       85843 non-null  float64\n",
      " 30  males_30age_votes          85843 non-null  float64\n",
      " 31  males_45age_avg_vote       85754 non-null  float64\n",
      " 32  males_45age_votes          85754 non-null  float64\n",
      " 33  females_allages_avg_vote   85774 non-null  float64\n",
      " 34  females_allages_votes      85774 non-null  float64\n",
      " 35  females_0age_avg_vote      22117 non-null  float64\n",
      " 36  females_0age_votes         22117 non-null  float64\n",
      " 37  females_18age_avg_vote     79334 non-null  float64\n",
      " 38  females_18age_votes        79334 non-null  float64\n",
      " 39  females_30age_avg_vote     84911 non-null  float64\n",
      " 40  females_30age_votes        84911 non-null  float64\n",
      " 41  females_45age_avg_vote     83057 non-null  float64\n",
      " 42  females_45age_votes        83057 non-null  float64\n",
      " 43  top1000_voters_rating      85176 non-null  float64\n",
      " 44  top1000_voters_votes       85176 non-null  float64\n",
      " 45  us_voters_rating           85646 non-null  float64\n",
      " 46  us_voters_votes            85646 non-null  float64\n",
      " 47  non_us_voters_rating       85854 non-null  float64\n",
      " 48  non_us_voters_votes        85854 non-null  float64\n",
      "dtypes: float64(37), int64(11), object(1)\n",
      "memory usage: 32.1+ MB\n"
     ]
    }
   ],
   "source": [
    "ratings_df.info()"
   ]
  },
  {
   "cell_type": "markdown",
   "id": "29a2fcfb-b7ac-47e5-9377-e79f47b94ddb",
   "metadata": {},
   "source": [
    "## Mỗi cột có ý nghĩa gì?\n",
    "1. imdb_title_id: mã định danh của tựa đề phim\n",
    "2. weighted_average_vote: điểm sau khi tính theo trung bình trọng số\n",
    "3. total_votes: số lượng bình chọn\n",
    "4. mean_vote: điểm bình chọn trung bình\n",
    "5. median_vote: điểm bình chọn trung vị\n",
    "6. votes_10: số lượng bình chọn điểm 10\n",
    "7. votes_9: số lượng bình chọn điểm 9\n",
    "8. votes_8: số lượng bình chọn điểm 8\n",
    "9. votes_7: số lượng bình chọn điểm 7\n",
    "10. votes_6: số lượng bình chọn điểm 6\n",
    "11. votes_5: số lượng bình chọn điểm 5\n",
    "12. votes_4: số lượng bình chọn điểm 4\n",
    "13. votes_3: số lượng bình chọn điểm 3\n",
    "14. votes_2: số lượng bình chọn điểm 2\n",
    "15. votes_1: số lượng bình chọn điểm 1\n",
    "16. allgenders_0age_avg_vote: điểm bình chọn trung bình của tất cả người dùng dưới 18 tuổi\n",
    "17. allgenders_0age_votes: số lượng bình chọn của người dùng dưới 18 tuổi\n",
    "18. allgenders_18age_avg_vote: điểm bình chọn trung bình của tất cả người dùng 18-30 tuổi\n",
    "19. allgenders_18age_votes: số lượng bình chọn của người dùng 18-30 tuổi\n",
    "20. allgenders_30age_avg_vote: điểm bình chọn trung bình của tất cả người dùng 30-45 tuổi\n",
    "21. allgenders_30age_votes: số lượng bình chọn của người dùng 30-45 tuổi\n",
    "22. allgenders_45age_avg_vote: điểm bình chọn trung bình của tất cả người dùng trên 45 tuổi\n",
    "23. allgenders_45age_votes: số lượng bình chọn của người dùng trên 45 tuổi\n",
    "24. males_allages_avg_vote: điểm bình chọn trung bình của tất cả người dùng nam\n",
    "25. males_allages_votes: số lượng bình chọn của tất cả người dùng nam\n",
    "26. males_0age_avg_vote: điểm bình chọn trung bình của tất cả người dùng nam dưới 18 tuổi\n",
    "27. males_0age_votes: số lượng bình chọn của tất cả người dùng nam dưới 18 tuổi\n",
    "28. males_18age_avg_vote: điểm bình chọn trung bình của tất cả người dùng nam 18-30 tuổi\n",
    "29. males_18age_votes: số lượng bình chọn của tất cả người dùng nam 18-30 tuổi\n",
    "30. males_30age_avg_vote: điểm bình chọn trung bình của tất cả người dùng nam 30-45 tuổi\n",
    "31. males_30age_votes: số lượng bình chọn của tất cả người dùng nam 30-45 tuổi\n",
    "32. males_45age_avg_vote: điểm bình chọn trung bình của tất cả người dùng nam trên 45 tuổi\n",
    "33. males_45age_votes: số lượng bình chọn của tất cả người dùng nam trên 45 tuổi\n",
    "34. females_allages_avg_vote: điểm bình chọn trung bình của tất cả người dùng nữ\n",
    "35. females_allages_votes: số lượng bình chọn của tất cả người dùng nữ\n",
    "36. females_0age_avg_vote: điểm bình chọn trung bình của tất cả người dùng nam dưới 18 tuổi\n",
    "37. females_0age_votes: số lượng bình chọn của tất cả người dùng nam dưới 18 tuổi\n",
    "38. females_18age_avg_vote: điểm bình chọn trung bình của tất cả người dùng nam 18-30 tuổi\n",
    "39. females_18age_votes: số lượng bình chọn của tất cả người dùng nam 18-30 tuổi\n",
    "40. females_30age_avg_vote: điểm bình chọn trung bình của tất cả người dùng nam 30-45 tuổi\n",
    "41. females_30age_votes: số lượng bình chọn của tất cả người dùng nam 30-45 tuổi\n",
    "42. females_45age_avg_vote: điểm bình chọn trung bình của tất cả người dùng nam trên 45 tuổi\n",
    "43. females_45age_votes: số lượng bình chọn của tất cả người dùng nam trên 45 tuổi\n",
    "44. top1000_voters_rating\n",
    "45. top1000_voters_votes\n",
    "46. us_voters_rating: điểm bình chọn trung bình của những người dùng từ Mỹ\n",
    "47. us_voters_votes: số lượng bình chọn của những người dùng từ Mỹ\n",
    "48. non_us_voters_rating: điểm bình chọn trung bình của những người dùng không đến từ Mỹ\n",
    "49. non_us_voters_votes: số lượng bình chọn của những người dùng không đến từ Mỹ"
   ]
  },
  {
   "cell_type": "markdown",
   "id": "f97dd57e-2f86-417d-8174-9c98559935bf",
   "metadata": {},
   "source": [
    "## Mỗi cột hiện đang có kiểu dữ liệu gì? Có cột nào có kiểu dữ liệu chưa phù hợp để có thể xử lý tiếp không?\n",
    "Cột imdb_title_id đang ở dạng object có thể chuyển về dạng chuỗi  \n",
    "Các cột số lượng đang ở kiểu số thực float64, đúng hơn là nên ở dạng số nguyên int"
   ]
  },
  {
   "cell_type": "markdown",
   "id": "eecdb665-54d0-4671-94e6-16ec5193efb4",
   "metadata": {},
   "source": [
    "## Với mỗi cột có kiểu dữ liệu dạng số (numeric), các giá trị được phân bố như thế nào?"
   ]
  },
  {
   "cell_type": "markdown",
   "id": "b88530a5-13be-485f-bc78-76e88388b9fa",
   "metadata": {},
   "source": [
    "## Số-lượng/tỉ-lệ các giá trị thiếu?"
   ]
  },
  {
   "cell_type": "markdown",
   "id": "2dca81a3-3137-4d6b-83b0-00b38f9cd3bf",
   "metadata": {},
   "source": [
    "## Min? max? → Dựa vào min, max, và ý nghĩa của cột để phát hiện giá trị bất hợp lệ"
   ]
  },
  {
   "cell_type": "markdown",
   "id": "5e026d88-4770-4cfb-9119-f6b93e1a6c2e",
   "metadata": {},
   "source": [
    "## Với mỗi cột có kiểu dữ liệu dạng phân loại (categorical), các giá trị được phân bố như thế nào?\n",
    "Cột imdb_title_id dạng phân loại nhưng không mang phân bố"
   ]
  },
  {
   "cell_type": "markdown",
   "id": "6fb693ca-86ca-4e57-a4e4-ce2f58fa4b0d",
   "metadata": {},
   "source": [
    "## Số-lượng/tỉ-lệ các giá trị thiếu?"
   ]
  },
  {
   "cell_type": "markdown",
   "id": "bd435e8e-2a2c-49ec-ac36-ae7876930e9d",
   "metadata": {},
   "source": [
    "## Số lượng các giá trị khác nhau? Show một vài giá trị"
   ]
  },
  {
   "cell_type": "code",
   "execution_count": null,
   "id": "196f8a44-32a9-4bc5-bd40-7db2c8a57bcb",
   "metadata": {},
   "outputs": [],
   "source": []
  },
  {
   "cell_type": "markdown",
   "id": "a707293e-c3bf-4746-bb23-3b9888de3fc6",
   "metadata": {},
   "source": [
    "# Tiền xử lý"
   ]
  },
  {
   "cell_type": "markdown",
   "id": "13fb37a8-f3a5-4528-9a85-f73357def9e5",
   "metadata": {},
   "source": [
    "## Câu hỏi là gì?\n",
    "Đạo diễn nào có nhiều phim rating cao nhất\n",
    "## Nếu trả lời được câu hỏi thì sẽ có lợi ích gì?\n",
    "Dựa vào đó để xem được nhiều phim hay từ đạo diễn này hơn"
   ]
  },
  {
   "cell_type": "code",
   "execution_count": null,
   "id": "a8b88a1a-18a4-4ef8-9155-a7476aa67067",
   "metadata": {},
   "outputs": [],
   "source": []
  },
  {
   "cell_type": "markdown",
   "id": "ca9ab3fc-f7ad-4df7-bc67-0966dde2b642",
   "metadata": {},
   "source": [
    "# Xác định các câu hỏi"
   ]
  },
  {
   "cell_type": "code",
   "execution_count": null,
   "id": "7e37d93a-eed5-4000-b78e-384cab31d3c6",
   "metadata": {},
   "outputs": [],
   "source": []
  },
  {
   "cell_type": "markdown",
   "id": "a55fdff7-464a-4f72-9e49-754d1cf784d9",
   "metadata": {},
   "source": [
    "# Phân tích để trả lời"
   ]
  },
  {
   "cell_type": "code",
   "execution_count": null,
   "id": "168cc6fa-0124-42df-9306-bb9f0eeff0b3",
   "metadata": {},
   "outputs": [],
   "source": []
  },
  {
   "cell_type": "markdown",
   "id": "51dc6b4f-0f6e-481e-8f27-b9e893913dff",
   "metadata": {},
   "source": [
    "# Nhìn lại quá trình làm đồ án"
   ]
  },
  {
   "cell_type": "code",
   "execution_count": null,
   "id": "ecb5b078-0ba4-41a1-b302-87e6b8d10a7f",
   "metadata": {},
   "outputs": [],
   "source": []
  },
  {
   "cell_type": "markdown",
   "id": "9a846267-f04c-4d12-975a-22f54e33e70b",
   "metadata": {},
   "source": [
    "# Tài liệu tham khảo"
   ]
  },
  {
   "cell_type": "code",
   "execution_count": null,
   "id": "ad29776c-301b-4d82-81eb-7297c1b84799",
   "metadata": {},
   "outputs": [],
   "source": []
  },
  {
   "cell_type": "code",
   "execution_count": null,
   "id": "71d5fe18-305a-4620-a91c-7ed18eb326d0",
   "metadata": {},
   "outputs": [],
   "source": [
    "exploratory"
   ]
  },
  {
   "cell_type": "markdown",
   "id": "41bfb581-7da2-45a6-a130-f82ed3ee35c6",
   "metadata": {},
   "source": [
    "# Thu thập dữ liệu"
   ]
  },
  {
   "cell_type": "markdown",
   "id": "07d8f180-0bb3-4948-9b20-6aff04a91dfc",
   "metadata": {},
   "source": []
  },
  {
   "cell_type": "markdown",
   "id": "8f35465a-3828-41b1-814d-4e71f94dc43d",
   "metadata": {},
   "source": [
    "# Khám phá dữ liệu"
   ]
  },
  {
   "cell_type": "code",
   "execution_count": null,
   "id": "31b8ce87-6db7-4b9e-a357-343de80a5284",
   "metadata": {},
   "outputs": [],
   "source": []
  },
  {
   "cell_type": "markdown",
   "id": "02cf3d58-750f-4bbd-967e-314172093dd1",
   "metadata": {},
   "source": [
    "# Tiền xử lý"
   ]
  },
  {
   "cell_type": "code",
   "execution_count": null,
   "id": "3bccdb60-a252-4f98-ab50-44e76c60a6c6",
   "metadata": {},
   "outputs": [],
   "source": []
  },
  {
   "cell_type": "markdown",
   "id": "4d49ec16-bb05-4737-9a1c-a078fbc54eea",
   "metadata": {},
   "source": [
    "# Xác định các câu hỏi"
   ]
  },
  {
   "cell_type": "code",
   "execution_count": null,
   "id": "a288f569-c1c1-41f7-a3fa-bf08f09b16e3",
   "metadata": {},
   "outputs": [],
   "source": []
  },
  {
   "cell_type": "markdown",
   "id": "14f1df58-2067-4c75-89d4-041373f0c9ab",
   "metadata": {},
   "source": [
    "# Phân tích để trả lời"
   ]
  },
  {
   "cell_type": "code",
   "execution_count": null,
   "id": "7e85c211-65c3-4d9a-be38-110376a49570",
   "metadata": {},
   "outputs": [],
   "source": []
  },
  {
   "cell_type": "markdown",
   "id": "cde6a0c9-f842-4802-aeab-d400d88b7828",
   "metadata": {},
   "source": [
    "# Nhìn lại quá trình làm đồ án"
   ]
  },
  {
   "cell_type": "code",
   "execution_count": null,
   "id": "a0ae2085-e91c-4796-aa9b-e0b117fb7c4b",
   "metadata": {},
   "outputs": [],
   "source": []
  },
  {
   "cell_type": "markdown",
   "id": "0e249e86-c63d-4734-9fe4-5e9b52037aa0",
   "metadata": {},
   "source": [
    "# Tài liệu tham khảo"
   ]
  },
  {
   "cell_type": "code",
   "execution_count": null,
   "id": "59e9e48f-5325-41c4-bffa-a7577f546a45",
   "metadata": {},
   "outputs": [],
   "source": []
  }
 ],
 "metadata": {
  "kernelspec": {
   "display_name": "Python 3",
   "language": "python",
   "name": "python3"
  },
  "language_info": {
   "codemirror_mode": {
    "name": "ipython",
    "version": 3
   },
   "file_extension": ".py",
   "mimetype": "text/x-python",
   "name": "python",
   "nbconvert_exporter": "python",
   "pygments_lexer": "ipython3",
   "version": "3.8.5"
  },
  "toc-autonumbering": true,
  "toc-showcode": false,
  "toc-showmarkdowntxt": false,
  "toc-showtags": false
 },
 "nbformat": 4,
 "nbformat_minor": 5
}
