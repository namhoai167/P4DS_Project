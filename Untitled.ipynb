{
 "cells": [
  {
   "cell_type": "markdown",
   "id": "8832fedd-f2be-4798-a6dc-80568c4e7ab2",
   "metadata": {},
   "source": [
    "# Import"
   ]
  },
  {
   "cell_type": "code",
   "execution_count": null,
   "id": "71d5fe18-305a-4620-a91c-7ed18eb326d0",
   "metadata": {},
   "outputs": [],
   "source": [
    "import numpy as np\n",
    "import pandas as pd\n",
    "import matplotlib.pyplot as plt"
   ]
  },
  {
   "cell_type": "markdown",
   "id": "41bfb581-7da2-45a6-a130-f82ed3ee35c6",
   "metadata": {},
   "source": [
    "# Thu thập dữ liệu"
   ]
  },
  {
   "cell_type": "markdown",
   "id": "07d8f180-0bb3-4948-9b20-6aff04a91dfc",
   "metadata": {},
   "source": []
  },
  {
   "cell_type": "markdown",
   "id": "8f35465a-3828-41b1-814d-4e71f94dc43d",
   "metadata": {},
   "source": [
    "# Khám phá dữ liệu"
   ]
  },
  {
   "cell_type": "code",
   "execution_count": null,
   "id": "31b8ce87-6db7-4b9e-a357-343de80a5284",
   "metadata": {},
   "outputs": [],
   "source": []
  },
  {
   "cell_type": "markdown",
   "id": "02cf3d58-750f-4bbd-967e-314172093dd1",
   "metadata": {},
   "source": [
    "# Tiền xử lý"
   ]
  },
  {
   "cell_type": "code",
   "execution_count": null,
   "id": "3bccdb60-a252-4f98-ab50-44e76c60a6c6",
   "metadata": {},
   "outputs": [],
   "source": []
  },
  {
   "cell_type": "markdown",
   "id": "4d49ec16-bb05-4737-9a1c-a078fbc54eea",
   "metadata": {},
   "source": [
    "# Xác định các câu hỏi"
   ]
  },
  {
   "cell_type": "code",
   "execution_count": null,
   "id": "a288f569-c1c1-41f7-a3fa-bf08f09b16e3",
   "metadata": {},
   "outputs": [],
   "source": []
  },
  {
   "cell_type": "markdown",
   "id": "14f1df58-2067-4c75-89d4-041373f0c9ab",
   "metadata": {},
   "source": [
    "# Phân tích để trả lời"
   ]
  },
  {
   "cell_type": "code",
   "execution_count": null,
   "id": "7e85c211-65c3-4d9a-be38-110376a49570",
   "metadata": {},
   "outputs": [],
   "source": []
  },
  {
   "cell_type": "markdown",
   "id": "cde6a0c9-f842-4802-aeab-d400d88b7828",
   "metadata": {},
   "source": [
    "# Nhìn lại quá trình làm đồ án"
   ]
  },
  {
   "cell_type": "code",
   "execution_count": null,
   "id": "a0ae2085-e91c-4796-aa9b-e0b117fb7c4b",
   "metadata": {},
   "outputs": [],
   "source": []
  },
  {
   "cell_type": "markdown",
   "id": "0e249e86-c63d-4734-9fe4-5e9b52037aa0",
   "metadata": {},
   "source": [
    "# Tài liệu tham khảo"
   ]
  },
  {
   "cell_type": "code",
   "execution_count": null,
   "id": "59e9e48f-5325-41c4-bffa-a7577f546a45",
   "metadata": {},
   "outputs": [],
   "source": []
  }
 ],
 "metadata": {
  "kernelspec": {
   "display_name": "Python 3",
   "language": "python",
   "name": "python3"
  },
  "language_info": {
   "codemirror_mode": {
    "name": "ipython",
    "version": 3
   },
   "file_extension": ".py",
   "mimetype": "text/x-python",
   "name": "python",
   "nbconvert_exporter": "python",
   "pygments_lexer": "ipython3",
   "version": "3.8.5"
  },
  "toc-autonumbering": true,
  "toc-showcode": false,
  "toc-showmarkdowntxt": false,
  "toc-showtags": false
 },
 "nbformat": 4,
 "nbformat_minor": 5
}
