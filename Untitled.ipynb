{
 "cells": [
  {
   "cell_type": "markdown",
   "id": "41bfb581-7da2-45a6-a130-f82ed3ee35c6",
   "metadata": {},
   "source": [
    "# Dữ liệu"
   ]
  },
  {
   "cell_type": "markdown",
   "id": "07d8f180-0bb3-4948-9b20-6aff04a91dfc",
   "metadata": {},
   "source": []
  },
  {
   "cell_type": "markdown",
   "id": "8832fedd-f2be-4798-a6dc-80568c4e7ab2",
   "metadata": {},
   "source": [
    "# Import"
   ]
  },
  {
   "cell_type": "code",
   "execution_count": null,
   "id": "71d5fe18-305a-4620-a91c-7ed18eb326d0",
   "metadata": {},
   "outputs": [],
   "source": [
    "import numpy as np\n",
    "import pandas as pd\n",
    "import matplotlib.pyplot as plt"
   ]
  },
  {
   "cell_type": "markdown",
   "id": "8f35465a-3828-41b1-814d-4e71f94dc43d",
   "metadata": {},
   "source": [
    "# Khám phá dữ liệu"
   ]
  },
  {
   "cell_type": "code",
   "execution_count": null,
   "id": "31b8ce87-6db7-4b9e-a357-343de80a5284",
   "metadata": {},
   "outputs": [],
   "source": []
  }
 ],
 "metadata": {
  "kernelspec": {
   "display_name": "Python 3",
   "language": "python",
   "name": "python3"
  },
  "language_info": {
   "codemirror_mode": {
    "name": "ipython",
    "version": 3
   },
   "file_extension": ".py",
   "mimetype": "text/x-python",
   "name": "python",
   "nbconvert_exporter": "python",
   "pygments_lexer": "ipython3",
   "version": "3.8.5"
  }
 },
 "nbformat": 4,
 "nbformat_minor": 5
}
