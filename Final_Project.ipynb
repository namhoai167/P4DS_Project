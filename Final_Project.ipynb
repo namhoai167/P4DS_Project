{
 "cells": [
  {
   "cell_type": "code",
   "execution_count": 1,
   "id": "9c4699a0",
   "metadata": {},
   "outputs": [],
   "source": [
    "import pandas as pd\n",
    "import numpy as np\n",
    "import matplotlib.pyplot as plt\n",
    "plt.style.use('ggplot')"
   ]
  },
  {
   "cell_type": "markdown",
   "id": "8818b272",
   "metadata": {},
   "source": [
    "---"
   ]
  },
  {
   "cell_type": "markdown",
   "id": "fc6f3f40",
   "metadata": {},
   "source": [
    "# Đọc dữ liệu"
   ]
  },
  {
   "cell_type": "code",
   "execution_count": 2,
   "id": "14938511",
   "metadata": {},
   "outputs": [
    {
     "name": "stderr",
     "output_type": "stream",
     "text": [
      "/home/wiuy/anaconda3/envs/p4ds-env/lib/python3.8/site-packages/IPython/core/interactiveshell.py:3169: DtypeWarning: Columns (3) have mixed types.Specify dtype option on import or set low_memory=False.\n",
      "  has_raised = await self.run_ast_nodes(code_ast.body, cell_name,\n"
     ]
    },
    {
     "data": {
      "text/html": [
       "<div>\n",
       "<style scoped>\n",
       "    .dataframe tbody tr th:only-of-type {\n",
       "        vertical-align: middle;\n",
       "    }\n",
       "\n",
       "    .dataframe tbody tr th {\n",
       "        vertical-align: top;\n",
       "    }\n",
       "\n",
       "    .dataframe thead th {\n",
       "        text-align: right;\n",
       "    }\n",
       "</style>\n",
       "<table border=\"1\" class=\"dataframe\">\n",
       "  <thead>\n",
       "    <tr style=\"text-align: right;\">\n",
       "      <th></th>\n",
       "      <th>imdb_title_id</th>\n",
       "      <th>title</th>\n",
       "      <th>original_title</th>\n",
       "      <th>year</th>\n",
       "      <th>date_published</th>\n",
       "      <th>genre</th>\n",
       "      <th>duration</th>\n",
       "      <th>country</th>\n",
       "      <th>language</th>\n",
       "      <th>director</th>\n",
       "      <th>...</th>\n",
       "      <th>actors</th>\n",
       "      <th>description</th>\n",
       "      <th>avg_vote</th>\n",
       "      <th>votes</th>\n",
       "      <th>budget</th>\n",
       "      <th>usa_gross_income</th>\n",
       "      <th>worlwide_gross_income</th>\n",
       "      <th>metascore</th>\n",
       "      <th>reviews_from_users</th>\n",
       "      <th>reviews_from_critics</th>\n",
       "    </tr>\n",
       "  </thead>\n",
       "  <tbody>\n",
       "    <tr>\n",
       "      <th>0</th>\n",
       "      <td>tt0000009</td>\n",
       "      <td>Miss Jerry</td>\n",
       "      <td>Miss Jerry</td>\n",
       "      <td>1894</td>\n",
       "      <td>1894-10-09</td>\n",
       "      <td>Romance</td>\n",
       "      <td>45</td>\n",
       "      <td>USA</td>\n",
       "      <td>None</td>\n",
       "      <td>Alexander Black</td>\n",
       "      <td>...</td>\n",
       "      <td>Blanche Bayliss, William Courtenay, Chauncey D...</td>\n",
       "      <td>The adventures of a female reporter in the 1890s.</td>\n",
       "      <td>5.9</td>\n",
       "      <td>154</td>\n",
       "      <td>NaN</td>\n",
       "      <td>NaN</td>\n",
       "      <td>NaN</td>\n",
       "      <td>NaN</td>\n",
       "      <td>1.0</td>\n",
       "      <td>2.0</td>\n",
       "    </tr>\n",
       "    <tr>\n",
       "      <th>1</th>\n",
       "      <td>tt0000574</td>\n",
       "      <td>The Story of the Kelly Gang</td>\n",
       "      <td>The Story of the Kelly Gang</td>\n",
       "      <td>1906</td>\n",
       "      <td>1906-12-26</td>\n",
       "      <td>Biography, Crime, Drama</td>\n",
       "      <td>70</td>\n",
       "      <td>Australia</td>\n",
       "      <td>None</td>\n",
       "      <td>Charles Tait</td>\n",
       "      <td>...</td>\n",
       "      <td>Elizabeth Tait, John Tait, Norman Campbell, Be...</td>\n",
       "      <td>True story of notorious Australian outlaw Ned ...</td>\n",
       "      <td>6.1</td>\n",
       "      <td>589</td>\n",
       "      <td>$ 2250</td>\n",
       "      <td>NaN</td>\n",
       "      <td>NaN</td>\n",
       "      <td>NaN</td>\n",
       "      <td>7.0</td>\n",
       "      <td>7.0</td>\n",
       "    </tr>\n",
       "  </tbody>\n",
       "</table>\n",
       "<p>2 rows × 22 columns</p>\n",
       "</div>"
      ],
      "text/plain": [
       "  imdb_title_id                        title               original_title  \\\n",
       "0     tt0000009                   Miss Jerry                   Miss Jerry   \n",
       "1     tt0000574  The Story of the Kelly Gang  The Story of the Kelly Gang   \n",
       "\n",
       "   year date_published                    genre  duration    country language  \\\n",
       "0  1894     1894-10-09                  Romance        45        USA     None   \n",
       "1  1906     1906-12-26  Biography, Crime, Drama        70  Australia     None   \n",
       "\n",
       "          director  ...                                             actors  \\\n",
       "0  Alexander Black  ...  Blanche Bayliss, William Courtenay, Chauncey D...   \n",
       "1     Charles Tait  ...  Elizabeth Tait, John Tait, Norman Campbell, Be...   \n",
       "\n",
       "                                         description avg_vote votes  budget  \\\n",
       "0  The adventures of a female reporter in the 1890s.      5.9   154     NaN   \n",
       "1  True story of notorious Australian outlaw Ned ...      6.1   589  $ 2250   \n",
       "\n",
       "   usa_gross_income worlwide_gross_income metascore reviews_from_users  \\\n",
       "0               NaN                   NaN       NaN                1.0   \n",
       "1               NaN                   NaN       NaN                7.0   \n",
       "\n",
       "   reviews_from_critics  \n",
       "0                   2.0  \n",
       "1                   7.0  \n",
       "\n",
       "[2 rows x 22 columns]"
      ]
     },
     "execution_count": 2,
     "metadata": {},
     "output_type": "execute_result"
    }
   ],
   "source": [
    "movies_df = pd.read_csv(\"Data/IMDb movies.csv\")\n",
    "movies_df.head(2)"
   ]
  },
  {
   "cell_type": "markdown",
   "id": "10ba1588",
   "metadata": {},
   "source": [
    "---"
   ]
  },
  {
   "cell_type": "markdown",
   "id": "b848eb69",
   "metadata": {},
   "source": [
    "# Khám phá & tiền xử lý dữ liệu"
   ]
  },
  {
   "cell_type": "markdown",
   "id": "883b5737",
   "metadata": {},
   "source": [
    "### Số dòng, cột của dữ liệu:"
   ]
  },
  {
   "cell_type": "code",
   "execution_count": 3,
   "id": "09d4c90a",
   "metadata": {},
   "outputs": [
    {
     "data": {
      "text/plain": [
       "(85855, 22)"
      ]
     },
     "execution_count": 3,
     "metadata": {},
     "output_type": "execute_result"
    }
   ],
   "source": [
    "movies_df.shape"
   ]
  },
  {
   "cell_type": "markdown",
   "id": "620fbef3",
   "metadata": {},
   "source": [
    "### Kiểm tra có dòng nào bị lặp không"
   ]
  },
  {
   "cell_type": "code",
   "execution_count": 4,
   "id": "e7c71faf",
   "metadata": {},
   "outputs": [
    {
     "data": {
      "text/plain": [
       "0"
      ]
     },
     "execution_count": 4,
     "metadata": {},
     "output_type": "execute_result"
    }
   ],
   "source": [
    "sum(movies_df.duplicated())"
   ]
  },
  {
   "cell_type": "markdown",
   "id": "b848fbc9",
   "metadata": {},
   "source": [
    "### Mô tả dữ liệu "
   ]
  },
  {
   "cell_type": "markdown",
   "id": "3b86c712",
   "metadata": {},
   "source": [
    "| Tên cột | Ý nghĩa của cột | \n",
    "|:---------|:-----------------|\n",
    "| ***imdb_title_id*** | ID phim trên trang IMDb |\n",
    "| ***title*** | tên phim |\n",
    "| ***original_title*** | tên gốc của phim |\n",
    "| ***year*** | năm phát hành (4 chữ số) |\n",
    "| ***date_published*** | ngày phát hành |\n",
    "| ***genre*** | thể loại phim (1 phim có thể thuộc nhiều thể loại) |\n",
    "| ***duration*** | thời lượng phim (phút)|\n",
    "| ***country*** | quốc gia của phim |\n",
    "| ***language*** | ngôn ngữ sử dụng trong phim |\n",
    "| ***director*** | tên đạo diễn |\n",
    "| ***writer*** | tên biên kịch |\n",
    "| ***production_company*** | tên công ty sản xuất |\n",
    "| ***actors*** | diễn viên |\n",
    "| ***description*** | mô tả phim |\n",
    "| ***avg_vote*** | điểm đánh giá trung bình (thang 10) |\n",
    "| ***votes*** | số lượng đánh giá |\n",
    "| ***budget*** | kinh phí làm phim (đơn vị tiền tệ không đồng nhất) |\n",
    "| ***usa_gross_income*** | tổng doanh thu tại Mỹ (đô la Mỹ) |\n",
    "| ***worlwide_gross_income*** | tổng doanh thu trên toàn thế giới (đô la Mỹ) |\n",
    "| ***metascore*** $^{(*)}$ | đánh giá của những người có chuyên môn (thang 100) |\n",
    "| ***reviews_from_users*** | số lượng review từ người dùng |\n",
    "| ***reviews_from_critics*** | số lượng review từ nhà phê bình |\n",
    "\n",
    "(\\*): ***metascore*** lấy từ trang https://www.metacritic.com/, 2 cột ***reviews_from_users*** và ***reviews_from_critics*** sẽ ứng với các review trên trang này"
   ]
  },
  {
   "cell_type": "markdown",
   "id": "2e02517d",
   "metadata": {},
   "source": [
    "### Kiểm tra kiểu dữ liệu của các cột"
   ]
  },
  {
   "cell_type": "code",
   "execution_count": 5,
   "id": "5d04e3a8",
   "metadata": {
    "scrolled": false
   },
   "outputs": [
    {
     "data": {
      "text/plain": [
       "imdb_title_id             object\n",
       "title                     object\n",
       "original_title            object\n",
       "year                      object\n",
       "date_published            object\n",
       "genre                     object\n",
       "duration                   int64\n",
       "country                   object\n",
       "language                  object\n",
       "director                  object\n",
       "writer                    object\n",
       "production_company        object\n",
       "actors                    object\n",
       "description               object\n",
       "avg_vote                 float64\n",
       "votes                      int64\n",
       "budget                    object\n",
       "usa_gross_income          object\n",
       "worlwide_gross_income     object\n",
       "metascore                float64\n",
       "reviews_from_users       float64\n",
       "reviews_from_critics     float64\n",
       "dtype: object"
      ]
     },
     "execution_count": 5,
     "metadata": {},
     "output_type": "execute_result"
    }
   ],
   "source": [
    "movies_df.dtypes"
   ]
  },
  {
   "cell_type": "markdown",
   "id": "b6bd12d6",
   "metadata": {},
   "source": [
    "**Dựa vào mô tả thì có các cột cần có sự điều chỉnh về kiểu dữ liệu:**\n",
    "- Các cột ***year, budget, usa_gross_income, worlwide_gross_income*** nên được đưa về các kiểu `numeric`.\n",
    "- Cột ***date_published*** cần được đưa về kiểu `datetime`"
   ]
  },
  {
   "cell_type": "markdown",
   "id": "bb928a2d",
   "metadata": {},
   "source": [
    "### Kiểm tra tỷ lệ thiếu dữ liệu của các cột"
   ]
  },
  {
   "cell_type": "markdown",
   "id": "ac841454",
   "metadata": {},
   "source": [
    "- Vì nhìn qua thì có các cột bị thiếu rất nhiều nên cần kiểm tra để loại bỏ nếu không thực sự cần thiết"
   ]
  },
  {
   "cell_type": "code",
   "execution_count": 6,
   "id": "b0c87047",
   "metadata": {},
   "outputs": [],
   "source": [
    "def missing_ratio(s):\n",
    "    num_missing_val = s.isnull().sum()\n",
    "    return num_missing_val/len(s)*100"
   ]
  },
  {
   "cell_type": "code",
   "execution_count": 7,
   "id": "29f1f26d",
   "metadata": {},
   "outputs": [
    {
     "data": {
      "text/plain": [
       "imdb_title_id             0.000000\n",
       "title                     0.000000\n",
       "original_title            0.000000\n",
       "year                      0.000000\n",
       "date_published            0.000000\n",
       "genre                     0.000000\n",
       "duration                  0.000000\n",
       "country                   0.074544\n",
       "language                  0.970241\n",
       "director                  0.101334\n",
       "writer                    1.830994\n",
       "production_company        5.188981\n",
       "actors                    0.080368\n",
       "description               2.463456\n",
       "avg_vote                  0.000000\n",
       "votes                     0.000000\n",
       "budget                   72.383670\n",
       "usa_gross_income         82.148972\n",
       "worlwide_gross_income    63.873974\n",
       "metascore                84.502941\n",
       "reviews_from_users        8.848640\n",
       "reviews_from_critics     13.740609\n",
       "dtype: float64"
      ]
     },
     "execution_count": 7,
     "metadata": {},
     "output_type": "execute_result"
    }
   ],
   "source": [
    "movies_df.agg(missing_ratio)"
   ]
  },
  {
   "cell_type": "markdown",
   "id": "b96e60db",
   "metadata": {},
   "source": [
    "- Bỏ đi các cột thiếu hơn 50% dữ liệu: ***budget, usa_gross_income, worlwide_gross_income, metascore***\n",
    "- Do bỏ cột ***metascore*** nên sẽ bỏ luôn hai cột bổ sung thông tin cho cột này là: ***reviews_from_users, reviews_from_critics***"
   ]
  },
  {
   "cell_type": "code",
   "execution_count": 8,
   "id": "64e45880",
   "metadata": {},
   "outputs": [],
   "source": [
    "movies_df = movies_df.drop(columns=['budget', 'usa_gross_income', 'worlwide_gross_income', 'metascore', 'reviews_from_users', 'reviews_from_critics'])"
   ]
  },
  {
   "cell_type": "markdown",
   "id": "cf86cd2d",
   "metadata": {},
   "source": [
    "### Điều chỉnh kiểu dữ liệu cho phù hợp cho các cột"
   ]
  },
  {
   "cell_type": "markdown",
   "id": "4e06ca11",
   "metadata": {},
   "source": [
    "- Do đã bỏ đi một số cột nên còn lại 2 cột ***year*** và ***date_published*** là cần điều chỉnh"
   ]
  },
  {
   "cell_type": "markdown",
   "id": "07af747b",
   "metadata": {},
   "source": [
    "**Điều chỉnh cột year:**\n",
    "- Có một warning khi đọc dữ liệu là cột ***year*** có kiểu dữ liệu hỗn hợp nên trước tiên sẽ là kiểm tra xem cột ***year*** có các kiểu dữ liệu gì"
   ]
  },
  {
   "cell_type": "code",
   "execution_count": 9,
   "id": "e52bbf8e",
   "metadata": {},
   "outputs": [
    {
     "data": {
      "text/plain": [
       "{int, str}"
      ]
     },
     "execution_count": 9,
     "metadata": {},
     "output_type": "execute_result"
    }
   ],
   "source": [
    "set(movies_df.year.apply(type))"
   ]
  },
  {
   "cell_type": "markdown",
   "id": "c3c3da2a",
   "metadata": {},
   "source": [
    "- Ngoài kiểu `int` là hợp lý ***year*** thì còn kiểu `str` cần phải chỉnh sửa, sao khi thử chuyển thì báo lỗi\n",
    "\n",
    "`Unable to parse string \"TV Movie 2019\" at position 83917`\n",
    "\n",
    "- Nên xóa dòng mà cột ***year*** nhận giá trị \"TV Movie 2019\" rồi mới chuyển về dạng `numeric`"
   ]
  },
  {
   "cell_type": "code",
   "execution_count": 10,
   "id": "7f78a81f",
   "metadata": {
    "scrolled": false
   },
   "outputs": [
    {
     "data": {
      "text/plain": [
       "dtype('int64')"
      ]
     },
     "execution_count": 10,
     "metadata": {},
     "output_type": "execute_result"
    }
   ],
   "source": [
    "movies_df = movies_df[movies_df.date_published != 'TV Movie 2019']\n",
    "movies_df.year = pd.to_numeric(movies_df.year)\n",
    "movies_df.year.dtypes"
   ]
  },
  {
   "cell_type": "markdown",
   "id": "ed5cef69",
   "metadata": {},
   "source": [
    "**Điều chỉnh cột *date_published* về dạng `datetime`**"
   ]
  },
  {
   "cell_type": "markdown",
   "id": "016329ba",
   "metadata": {},
   "source": [
    "- Trước khi điều chỉnh kiểu dữ liệu thì có một vấn đề cần xử lý với cột ***date_published*** đó là có các giá trị chỉ có năm không có ngày tháng "
   ]
  },
  {
   "cell_type": "code",
   "execution_count": 11,
   "id": "e7bc2163",
   "metadata": {},
   "outputs": [
    {
     "data": {
      "text/plain": [
       "5      1913\n",
       "55     1915\n",
       "100    1919\n",
       "117    1919\n",
       "144    1922\n",
       "Name: date_published, dtype: object"
      ]
     },
     "execution_count": 11,
     "metadata": {},
     "output_type": "execute_result"
    }
   ],
   "source": [
    "movies_df.date_published[movies_df.date_published.apply(lambda x: '-' not in str(x))].head()"
   ]
  },
  {
   "cell_type": "markdown",
   "id": "d2e81237",
   "metadata": {},
   "source": [
    "- Bỏ các cột này trước khi chuyển về dạng `datetime`, mặc dù không bỏ thì việc chuyển vẫn không có vấn đề tuy nhiên ngày tháng sẽ mặc định là 1/1 điều này sẽ gây sai lệch nếu ta muốn khảo sát mà có sử dụng cột này."
   ]
  },
  {
   "cell_type": "code",
   "execution_count": 12,
   "id": "58bb47b0",
   "metadata": {},
   "outputs": [],
   "source": [
    "movies_df = movies_df[movies_df.date_published.apply(lambda x: '-' in str(x))]"
   ]
  },
  {
   "cell_type": "markdown",
   "id": "a3b07d45",
   "metadata": {},
   "source": [
    "- Chuyển cột ***date_published*** về dạng `datetime`"
   ]
  },
  {
   "cell_type": "code",
   "execution_count": 13,
   "id": "b0cca97e",
   "metadata": {},
   "outputs": [],
   "source": [
    "movies_df.date_published = pd.to_datetime(movies_df.date_published, format='%Y-%m-%d')"
   ]
  },
  {
   "cell_type": "code",
   "execution_count": 14,
   "id": "6e333d5f",
   "metadata": {
    "scrolled": false
   },
   "outputs": [
    {
     "data": {
      "text/plain": [
       "dtype('<M8[ns]')"
      ]
     },
     "execution_count": 14,
     "metadata": {},
     "output_type": "execute_result"
    }
   ],
   "source": [
    "movies_df.date_published.dtypes"
   ]
  },
  {
   "cell_type": "markdown",
   "id": "fbd69e4c",
   "metadata": {},
   "source": [
    "- Theo mô tả dữ liệu thì cột ***year*** phải trùng với năm ở cột ***date_published***, kiểm tra thực điều này có thực sự đúng"
   ]
  },
  {
   "cell_type": "code",
   "execution_count": 15,
   "id": "d4170fcd",
   "metadata": {},
   "outputs": [
    {
     "data": {
      "text/plain": [
       "17054"
      ]
     },
     "execution_count": 15,
     "metadata": {},
     "output_type": "execute_result"
    }
   ],
   "source": [
    "sum(movies_df.year != movies_df.date_published.dt.year)"
   ]
  },
  {
   "cell_type": "markdown",
   "id": "ac727fae",
   "metadata": {},
   "source": [
    "*Sai lệch rất nhiều,không biết vì sao lại có sự sai lệch này. Với sự sai lệch nhiều đến vậy thì có lẽ không phải do vấn đề nhập liệu*"
   ]
  },
  {
   "cell_type": "markdown",
   "id": "70473acf",
   "metadata": {},
   "source": [
    "- Vậy sẽ xóa cột ***year***"
   ]
  },
  {
   "cell_type": "code",
   "execution_count": 16,
   "id": "5b314144",
   "metadata": {},
   "outputs": [],
   "source": [
    "movies_df = movies_df.drop(columns=['year'])"
   ]
  },
  {
   "cell_type": "markdown",
   "id": "5aac2286",
   "metadata": {},
   "source": [
    "### Xem lại dữ liệu sau khi đã điều chỉnh"
   ]
  },
  {
   "cell_type": "markdown",
   "id": "8a7fb493",
   "metadata": {},
   "source": [
    "**Số dòng số cột của dữ liệu**"
   ]
  },
  {
   "cell_type": "code",
   "execution_count": 17,
   "id": "2d655817",
   "metadata": {},
   "outputs": [
    {
     "data": {
      "text/plain": [
       "(81292, 15)"
      ]
     },
     "execution_count": 17,
     "metadata": {},
     "output_type": "execute_result"
    }
   ],
   "source": [
    "movies_df.shape"
   ]
  },
  {
   "cell_type": "markdown",
   "id": "ad46dacc",
   "metadata": {},
   "source": [
    "**Xem lại kiểu dữ liệu của các cột**"
   ]
  },
  {
   "cell_type": "code",
   "execution_count": 18,
   "id": "49edb14c",
   "metadata": {},
   "outputs": [
    {
     "data": {
      "text/plain": [
       "imdb_title_id                 object\n",
       "title                         object\n",
       "original_title                object\n",
       "date_published        datetime64[ns]\n",
       "genre                         object\n",
       "duration                       int64\n",
       "country                       object\n",
       "language                      object\n",
       "director                      object\n",
       "writer                        object\n",
       "production_company            object\n",
       "actors                        object\n",
       "description                   object\n",
       "avg_vote                     float64\n",
       "votes                          int64\n",
       "dtype: object"
      ]
     },
     "execution_count": 18,
     "metadata": {},
     "output_type": "execute_result"
    }
   ],
   "source": [
    "movies_df.dtypes"
   ]
  },
  {
   "cell_type": "markdown",
   "id": "12023a97",
   "metadata": {},
   "source": [
    "### Khám phá  các cột dạng numeric"
   ]
  },
  {
   "cell_type": "markdown",
   "id": "b44a6cfd",
   "metadata": {},
   "source": [
    "- Xem xét các giá trị min max và tỷ lệ giá trị thiếu của các cột dạng numeric"
   ]
  },
  {
   "cell_type": "code",
   "execution_count": 19,
   "id": "c2eca0fe",
   "metadata": {},
   "outputs": [
    {
     "data": {
      "text/html": [
       "<div>\n",
       "<style scoped>\n",
       "    .dataframe tbody tr th:only-of-type {\n",
       "        vertical-align: middle;\n",
       "    }\n",
       "\n",
       "    .dataframe tbody tr th {\n",
       "        vertical-align: top;\n",
       "    }\n",
       "\n",
       "    .dataframe thead th {\n",
       "        text-align: right;\n",
       "    }\n",
       "</style>\n",
       "<table border=\"1\" class=\"dataframe\">\n",
       "  <thead>\n",
       "    <tr style=\"text-align: right;\">\n",
       "      <th></th>\n",
       "      <th>date_published</th>\n",
       "      <th>duration</th>\n",
       "      <th>avg_vote</th>\n",
       "      <th>votes</th>\n",
       "    </tr>\n",
       "  </thead>\n",
       "  <tbody>\n",
       "    <tr>\n",
       "      <th>min</th>\n",
       "      <td>1894-10-09 00:00:00</td>\n",
       "      <td>41.0</td>\n",
       "      <td>1.0</td>\n",
       "      <td>99.0</td>\n",
       "    </tr>\n",
       "    <tr>\n",
       "      <th>max</th>\n",
       "      <td>2021-05-07 00:00:00</td>\n",
       "      <td>808.0</td>\n",
       "      <td>9.9</td>\n",
       "      <td>2278845.0</td>\n",
       "    </tr>\n",
       "    <tr>\n",
       "      <th>missing_ratio</th>\n",
       "      <td>0.0</td>\n",
       "      <td>0.0</td>\n",
       "      <td>0.0</td>\n",
       "      <td>0.0</td>\n",
       "    </tr>\n",
       "  </tbody>\n",
       "</table>\n",
       "</div>"
      ],
      "text/plain": [
       "                    date_published  duration  avg_vote      votes\n",
       "min            1894-10-09 00:00:00      41.0       1.0       99.0\n",
       "max            2021-05-07 00:00:00     808.0       9.9  2278845.0\n",
       "missing_ratio                  0.0       0.0       0.0        0.0"
      ]
     },
     "execution_count": 19,
     "metadata": {},
     "output_type": "execute_result"
    }
   ],
   "source": [
    "num_cols = ['date_published', 'duration', 'avg_vote', 'votes']\n",
    "movies_df[num_cols].agg([min, max, missing_ratio])"
   ]
  },
  {
   "cell_type": "markdown",
   "id": "9e5ff5d4",
   "metadata": {},
   "source": [
    "- Các cột dạng numeric không có dữ liệu thiếu\n",
    "- Tiếp theo sẽ xem thử sự phân bố giá trị của các cột này, cột ***date_published*** là kiểu `datetime` nên ta không xem xét sự phân bố dữ liệu"
   ]
  },
  {
   "cell_type": "markdown",
   "id": "586c603d",
   "metadata": {},
   "source": [
    "**Phân bố giá trị của cột year**"
   ]
  },
  {
   "cell_type": "code",
   "execution_count": 20,
   "id": "27c2f0be",
   "metadata": {
    "scrolled": true
   },
   "outputs": [
    {
     "data": {
      "image/png": "[encoded data removed]",
      "text/plain": [
       "<Figure size 432x288 with 1 Axes>"
      ]
     },
     "metadata": {},
     "output_type": "display_data"
    }
   ],
   "source": [
    "movies_df['date_published'].dt.year.hist(bins=np.arange(1894, 2022, 5))\n",
    "plt.xlabel('year')\n",
    "plt.title('Phân phối của cột year')\n",
    "plt.show()"
   ]
  },
  {
   "cell_type": "markdown",
   "id": "d4b263eb",
   "metadata": {},
   "source": [
    "*Nhận xét: số lượng phim luôn tăng qua các năm và có xu hướng tăng mạnh hơn qua từng năm. Và năm 2021 tất nhiên sẽ có rất ít phim*"
   ]
  },
  {
   "cell_type": "markdown",
   "id": "15d38aec",
   "metadata": {},
   "source": [
    "**Phân bố giá trị của cột duration**\n",
    "\n",
    "Các giá trị trên 200 là quá ít nên bin cuối là 200"
   ]
  },
  {
   "cell_type": "code",
   "execution_count": 21,
   "id": "04f341f0",
   "metadata": {
    "scrolled": true
   },
   "outputs": [
    {
     "data": {
      "image/png": "[encoded data removed]",
      "text/plain": [
       "<Figure size 432x288 with 1 Axes>"
      ]
     },
     "metadata": {},
     "output_type": "display_data"
    }
   ],
   "source": [
    "movies_df['duration'].hist(bins=np.arange(40, 200, 5))\n",
    "plt.xlabel('duration')\n",
    "plt.title('Phân phối của cột duration')\n",
    "plt.show()"
   ]
  },
  {
   "cell_type": "markdown",
   "id": "ec33df8b",
   "metadata": {},
   "source": [
    "*Nhận xét: thời lượng các bộ phim chủ yếu trong khoảng từ 80-120 phút*"
   ]
  },
  {
   "cell_type": "markdown",
   "id": "3c3ce2f4",
   "metadata": {},
   "source": [
    "**Phân bố giá trị của cột avg_vote**"
   ]
  },
  {
   "cell_type": "code",
   "execution_count": 22,
   "id": "b26fe8df",
   "metadata": {
    "scrolled": false
   },
   "outputs": [
    {
     "data": {
      "image/png": "[encoded data removed]",
      "text/plain": [
       "<Figure size 432x288 with 1 Axes>"
      ]
     },
     "metadata": {},
     "output_type": "display_data"
    }
   ],
   "source": [
    "movies_df['avg_vote'].hist(bins=np.arange(1, 10, 0.5))\n",
    "plt.xlabel('avg_vote')\n",
    "plt.title('Phân phối của cột avg_vote')\n",
    "plt.show()"
   ]
  },
  {
   "cell_type": "markdown",
   "id": "24959dfa",
   "metadata": {},
   "source": [
    "*Nhận xét: đa số các phim được đánh giá ở mức 5-7, rất ít phim có thể đạt được 9-10 (không có phim nào đạt được đánh gái 10 tuyệt đối)*"
   ]
  },
  {
   "cell_type": "markdown",
   "id": "7b8204d9",
   "metadata": {},
   "source": [
    "**Phân bố giá trị của cột votes**\n",
    "\n",
    "Các giá trị trên 6000 là quá ít nên bin cuối là 6000"
   ]
  },
  {
   "cell_type": "code",
   "execution_count": 23,
   "id": "c8969f3f",
   "metadata": {},
   "outputs": [
    {
     "data": {
      "image/png": "[encoded data removed]",
      "text/plain": [
       "<Figure size 432x288 with 1 Axes>"
      ]
     },
     "metadata": {},
     "output_type": "display_data"
    }
   ],
   "source": [
    "movies_df['votes'].hist(bins=np.arange(0, 6000, 50))\n",
    "plt.xlabel('votes')\n",
    "plt.title('Phân phối của cột votes')\n",
    "plt.show()"
   ]
  },
  {
   "cell_type": "markdown",
   "id": "315ac7af",
   "metadata": {},
   "source": [
    "### Khám phá  các cột dạng categorical"
   ]
  },
  {
   "cell_type": "markdown",
   "id": "6c5ad497",
   "metadata": {},
   "source": [
    "- Đầu tiên xem xét các giá trị sau của các cột categorical: tỷ lệ giá trị thiếu, số lượng các giá trị phân biệt (`num_diff_vals`), các gái trị phân biệt (`diff_vals`)"
   ]
  },
  {
   "cell_type": "code",
   "execution_count": 24,
   "id": "c4cbb30d",
   "metadata": {
    "scrolled": true
   },
   "outputs": [
    {
     "data": {
      "text/html": [
       "<div>\n",
       "<style scoped>\n",
       "    .dataframe tbody tr th:only-of-type {\n",
       "        vertical-align: middle;\n",
       "    }\n",
       "\n",
       "    .dataframe tbody tr th {\n",
       "        vertical-align: top;\n",
       "    }\n",
       "\n",
       "    .dataframe thead th {\n",
       "        text-align: right;\n",
       "    }\n",
       "</style>\n",
       "<table border=\"1\" class=\"dataframe\">\n",
       "  <thead>\n",
       "    <tr style=\"text-align: right;\">\n",
       "      <th></th>\n",
       "      <th>original_title</th>\n",
       "      <th>actors</th>\n",
       "      <th>genre</th>\n",
       "      <th>production_company</th>\n",
       "      <th>country</th>\n",
       "      <th>language</th>\n",
       "      <th>imdb_title_id</th>\n",
       "      <th>director</th>\n",
       "      <th>writer</th>\n",
       "      <th>description</th>\n",
       "      <th>title</th>\n",
       "    </tr>\n",
       "  </thead>\n",
       "  <tbody>\n",
       "    <tr>\n",
       "      <th>missing_ratio</th>\n",
       "      <td>0.0</td>\n",
       "      <td>0.072578</td>\n",
       "      <td>0.0</td>\n",
       "      <td>4.542882</td>\n",
       "      <td>0.071348</td>\n",
       "      <td>0.943512</td>\n",
       "      <td>0.0</td>\n",
       "      <td>0.098411</td>\n",
       "      <td>1.631157</td>\n",
       "      <td>2.30527</td>\n",
       "      <td>0.0</td>\n",
       "    </tr>\n",
       "    <tr>\n",
       "      <th>num_diff_vals</th>\n",
       "      <td>76680</td>\n",
       "      <td>81179</td>\n",
       "      <td>1234</td>\n",
       "      <td>30598</td>\n",
       "      <td>4826</td>\n",
       "      <td>4299</td>\n",
       "      <td>81292</td>\n",
       "      <td>33272</td>\n",
       "      <td>63954</td>\n",
       "      <td>79296</td>\n",
       "      <td>77845</td>\n",
       "    </tr>\n",
       "    <tr>\n",
       "      <th>diff_vals</th>\n",
       "      <td>[Miss Jerry, The Story of the Kelly Gang, Den ...</td>\n",
       "      <td>[Blanche Bayliss, William Courtenay, Chauncey ...</td>\n",
       "      <td>[Romance, Biography, Crime, Drama, Drama, Dram...</td>\n",
       "      <td>[Alexander Black Photoplays, J. and N. Tait, F...</td>\n",
       "      <td>[USA, Australia, Germany, Denmark, Italy, Germ...</td>\n",
       "      <td>[None, nan, English, Italian, German, Danish, ...</td>\n",
       "      <td>[tt0000009, tt0000574, tt0001892, tt0002101, t...</td>\n",
       "      <td>[Alexander Black, Charles Tait, Urban Gad, Cha...</td>\n",
       "      <td>[Alexander Black, Charles Tait, Urban Gad, Geb...</td>\n",
       "      <td>[The adventures of a female reporter in the 18...</td>\n",
       "      <td>[Miss Jerry, The Story of the Kelly Gang, Den ...</td>\n",
       "    </tr>\n",
       "  </tbody>\n",
       "</table>\n",
       "</div>"
      ],
      "text/plain": [
       "                                                  original_title  \\\n",
       "missing_ratio                                                0.0   \n",
       "num_diff_vals                                              76680   \n",
       "diff_vals      [Miss Jerry, The Story of the Kelly Gang, Den ...   \n",
       "\n",
       "                                                          actors  \\\n",
       "missing_ratio                                           0.072578   \n",
       "num_diff_vals                                              81179   \n",
       "diff_vals      [Blanche Bayliss, William Courtenay, Chauncey ...   \n",
       "\n",
       "                                                           genre  \\\n",
       "missing_ratio                                                0.0   \n",
       "num_diff_vals                                               1234   \n",
       "diff_vals      [Romance, Biography, Crime, Drama, Drama, Dram...   \n",
       "\n",
       "                                              production_company  \\\n",
       "missing_ratio                                           4.542882   \n",
       "num_diff_vals                                              30598   \n",
       "diff_vals      [Alexander Black Photoplays, J. and N. Tait, F...   \n",
       "\n",
       "                                                         country  \\\n",
       "missing_ratio                                           0.071348   \n",
       "num_diff_vals                                               4826   \n",
       "diff_vals      [USA, Australia, Germany, Denmark, Italy, Germ...   \n",
       "\n",
       "                                                        language  \\\n",
       "missing_ratio                                           0.943512   \n",
       "num_diff_vals                                               4299   \n",
       "diff_vals      [None, nan, English, Italian, German, Danish, ...   \n",
       "\n",
       "                                                   imdb_title_id  \\\n",
       "missing_ratio                                                0.0   \n",
       "num_diff_vals                                              81292   \n",
       "diff_vals      [tt0000009, tt0000574, tt0001892, tt0002101, t...   \n",
       "\n",
       "                                                        director  \\\n",
       "missing_ratio                                           0.098411   \n",
       "num_diff_vals                                              33272   \n",
       "diff_vals      [Alexander Black, Charles Tait, Urban Gad, Cha...   \n",
       "\n",
       "                                                          writer  \\\n",
       "missing_ratio                                           1.631157   \n",
       "num_diff_vals                                              63954   \n",
       "diff_vals      [Alexander Black, Charles Tait, Urban Gad, Geb...   \n",
       "\n",
       "                                                     description  \\\n",
       "missing_ratio                                            2.30527   \n",
       "num_diff_vals                                              79296   \n",
       "diff_vals      [The adventures of a female reporter in the 18...   \n",
       "\n",
       "                                                           title  \n",
       "missing_ratio                                                0.0  \n",
       "num_diff_vals                                              77845  \n",
       "diff_vals      [Miss Jerry, The Story of the Kelly Gang, Den ...  "
      ]
     },
     "execution_count": 24,
     "metadata": {},
     "output_type": "execute_result"
    }
   ],
   "source": [
    "cate_cols = list(set(movies_df.columns) - set(num_cols))\n",
    "def num_diff_vals(s):\n",
    "    return s.nunique()\n",
    "def diff_vals(s):\n",
    "    return s.unique()\n",
    "\n",
    "movies_df[cate_cols].agg([missing_ratio, num_diff_vals, diff_vals])"
   ]
  },
  {
   "cell_type": "markdown",
   "id": "2427f60e",
   "metadata": {},
   "source": [
    "*Cột imdb_title_id có số lượng giá trị khác nhau đúng với số dòng dữ liệu: 85854 dòng*"
   ]
  },
  {
   "cell_type": "markdown",
   "id": "26948f44",
   "metadata": {},
   "source": [
    "- Tiếp theo tìm các giá trị xuất hiện nhiều nhất của các cột ***genre, production_company, country, language, actors, director, writer***.\n",
    "- Do mỗi mẫu của các cột này có thể có nhiều giá trị nên cần phải xử lý tách các giá trị này ra trước rồi mới tính tần xuất của từng giá trị. Hàm `count_list_cols` sẽ thực hiện việc tách và sau đó tính tần xuất bằng phương thức `value_counts`"
   ]
  },
  {
   "cell_type": "code",
   "execution_count": 25,
   "id": "a32c931a",
   "metadata": {
    "scrolled": false
   },
   "outputs": [
    {
     "data": {
      "text/html": [
       "<div>\n",
       "<style scoped>\n",
       "    .dataframe tbody tr th:only-of-type {\n",
       "        vertical-align: middle;\n",
       "    }\n",
       "\n",
       "    .dataframe tbody tr th {\n",
       "        vertical-align: top;\n",
       "    }\n",
       "\n",
       "    .dataframe thead th {\n",
       "        text-align: right;\n",
       "    }\n",
       "</style>\n",
       "<table border=\"1\" class=\"dataframe\">\n",
       "  <thead>\n",
       "    <tr style=\"text-align: right;\">\n",
       "      <th></th>\n",
       "      <th>genre</th>\n",
       "      <th>production_company</th>\n",
       "      <th>country</th>\n",
       "      <th>language</th>\n",
       "      <th>actors</th>\n",
       "      <th>director</th>\n",
       "      <th>writer</th>\n",
       "    </tr>\n",
       "  </thead>\n",
       "  <tbody>\n",
       "    <tr>\n",
       "      <th>0</th>\n",
       "      <td>Drama</td>\n",
       "      <td>Metro-Goldwyn-Mayer(MGM)</td>\n",
       "      <td>USA</td>\n",
       "      <td>English</td>\n",
       "      <td>Brahmanandam</td>\n",
       "      <td>MichaelCurtiz</td>\n",
       "      <td>JingWong</td>\n",
       "    </tr>\n",
       "    <tr>\n",
       "      <th>1</th>\n",
       "      <td>Comedy</td>\n",
       "      <td>WarnerBros.</td>\n",
       "      <td>France</td>\n",
       "      <td>French</td>\n",
       "      <td>AnupamKher</td>\n",
       "      <td>JesúsFranco</td>\n",
       "      <td>KuangNi</td>\n",
       "    </tr>\n",
       "    <tr>\n",
       "      <th>2</th>\n",
       "      <td>Romance</td>\n",
       "      <td>ColumbiaPictures</td>\n",
       "      <td>UK</td>\n",
       "      <td>Spanish</td>\n",
       "      <td>EricRoberts</td>\n",
       "      <td>LesleySelander</td>\n",
       "      <td>WilliamShakespeare</td>\n",
       "    </tr>\n",
       "    <tr>\n",
       "      <th>3</th>\n",
       "      <td>Action</td>\n",
       "      <td>ParamountPictures</td>\n",
       "      <td>India</td>\n",
       "      <td>Italian</td>\n",
       "      <td>Nassar</td>\n",
       "      <td>RichardThorpe</td>\n",
       "      <td>JesúsFranco</td>\n",
       "    </tr>\n",
       "    <tr>\n",
       "      <th>4</th>\n",
       "      <td>Thriller</td>\n",
       "      <td>TwentiethCenturyFox</td>\n",
       "      <td>Italy</td>\n",
       "      <td>German</td>\n",
       "      <td>PrakashRaj</td>\n",
       "      <td>JohnFord</td>\n",
       "      <td>RobinBhatt</td>\n",
       "    </tr>\n",
       "  </tbody>\n",
       "</table>\n",
       "</div>"
      ],
      "text/plain": [
       "      genre        production_company country language        actors  \\\n",
       "0     Drama  Metro-Goldwyn-Mayer(MGM)     USA  English  Brahmanandam   \n",
       "1    Comedy               WarnerBros.  France   French    AnupamKher   \n",
       "2   Romance          ColumbiaPictures      UK  Spanish   EricRoberts   \n",
       "3    Action         ParamountPictures   India  Italian        Nassar   \n",
       "4  Thriller       TwentiethCenturyFox   Italy   German    PrakashRaj   \n",
       "\n",
       "         director              writer  \n",
       "0   MichaelCurtiz            JingWong  \n",
       "1     JesúsFranco             KuangNi  \n",
       "2  LesleySelander  WilliamShakespeare  \n",
       "3   RichardThorpe         JesúsFranco  \n",
       "4        JohnFord          RobinBhatt  "
      ]
     },
     "execution_count": 25,
     "metadata": {},
     "output_type": "execute_result"
    }
   ],
   "source": [
    "def count_list_cols(s):\n",
    "    return s.str.replace(' ', '').str.split(',').explode().value_counts()\n",
    "def top_vals(s, n):\n",
    "    freq = count_list_cols(s)\n",
    "    return list(freq[:n].index)\n",
    "\n",
    "movies_df[['genre', 'production_company', 'country', 'language', 'actors', 'director', 'writer']].agg(lambda s: top_vals(s, 5))"
   ]
  },
  {
   "cell_type": "markdown",
   "id": "f9b227cd",
   "metadata": {},
   "source": [
    "- Trực quan tần xuất của các giá trị xuất hiện nhiều nhất của các cột ***genre, production_company, country, language***"
   ]
  },
  {
   "cell_type": "markdown",
   "id": "bd4bf1da",
   "metadata": {},
   "source": [
    "**Tần xuất của 10 giá trị xuất hiện nhiều nhất của cột genre**"
   ]
  },
  {
   "cell_type": "code",
   "execution_count": 26,
   "id": "4ceeb566",
   "metadata": {},
   "outputs": [
    {
     "data": {
      "image/png": "[encoded data removed]",
      "text/plain": [
       "<Figure size 432x288 with 1 Axes>"
      ]
     },
     "metadata": {},
     "output_type": "display_data"
    }
   ],
   "source": [
    "count_list_cols(movies_df.genre)[:10].plot.barh()\n",
    "plt.xlabel('genre')\n",
    "plt.show()"
   ]
  },
  {
   "cell_type": "markdown",
   "id": "b2bfd3f8",
   "metadata": {},
   "source": [
    "**Tần xuất của 10 giá trị xuất hiện nhiều nhất của cột production_company**"
   ]
  },
  {
   "cell_type": "code",
   "execution_count": 27,
   "id": "ec8d4387",
   "metadata": {},
   "outputs": [
    {
     "data": {
      "image/png": "[encoded data removed]",
      "text/plain": [
       "<Figure size 432x288 with 1 Axes>"
      ]
     },
     "metadata": {},
     "output_type": "display_data"
    }
   ],
   "source": [
    "count_list_cols(movies_df.production_company)[:10].plot.barh()\n",
    "plt.xlabel('production_company')\n",
    "plt.show()"
   ]
  },
  {
   "cell_type": "markdown",
   "id": "6c7f1d20",
   "metadata": {},
   "source": [
    "**Tần xuất của 10 giá trị xuất hiện nhiều nhất của cột country**"
   ]
  },
  {
   "cell_type": "code",
   "execution_count": 28,
   "id": "9e16b38e",
   "metadata": {},
   "outputs": [
    {
     "data": {
      "image/png": "[encoded data removed]",
      "text/plain": [
       "<Figure size 432x288 with 1 Axes>"
      ]
     },
     "metadata": {},
     "output_type": "display_data"
    }
   ],
   "source": [
    "count_list_cols(movies_df.country)[:10].plot.barh()\n",
    "plt.xlabel('country')\n",
    "plt.show()"
   ]
  },
  {
   "cell_type": "markdown",
   "id": "9b57c435",
   "metadata": {},
   "source": [
    "**Tần xuất của 10 giá trị xuất hiện nhiều nhất của cột genre**"
   ]
  },
  {
   "cell_type": "code",
   "execution_count": 29,
   "id": "a4d63ff2",
   "metadata": {
    "scrolled": true
   },
   "outputs": [
    {
     "data": {
      "image/png": "[encoded data removed]",
      "text/plain": [
       "<Figure size 432x288 with 1 Axes>"
      ]
     },
     "metadata": {},
     "output_type": "display_data"
    }
   ],
   "source": [
    "count_list_cols(movies_df.language)[:10].plot.barh()\n",
    "plt.xlabel('language')\n",
    "plt.show()"
   ]
  },
  {
   "cell_type": "markdown",
   "id": "6b08a76b",
   "metadata": {},
   "source": [
    "*Tần xuất của giá trị **USA** trong cột **country** và **English** trong cột **languge** vượt trội hoàn toàn so với các giá trị còn lại, điều này không quá bất ngờ đối với ngành công nghiệp phim ảnh*"
   ]
  },
  {
   "cell_type": "markdown",
   "id": "d0895565",
   "metadata": {},
   "source": [
    "- Xem thử với các phim tiếng Anh (không cần xét USA vì phim ở USA sẽ bao gồm trong phim tiếng Anh) thì các giá trị xuất hiện nhiều nhất của các cột ***actors, director, writer*** sẽ như thế nào.\n",
    "- Tạo `Eng_df` gồm các phim tiếng Anh (có thể có các thứ tiếng khác) để sử dụng cho các phần sau"
   ]
  },
  {
   "cell_type": "code",
   "execution_count": 30,
   "id": "ba5c9c07",
   "metadata": {},
   "outputs": [],
   "source": [
    "Eng_df = movies_df[movies_df.language.apply(lambda x: 'English' in str(x))]"
   ]
  },
  {
   "cell_type": "code",
   "execution_count": 31,
   "id": "d5984101",
   "metadata": {
    "scrolled": true
   },
   "outputs": [
    {
     "data": {
      "text/html": [
       "<div>\n",
       "<style scoped>\n",
       "    .dataframe tbody tr th:only-of-type {\n",
       "        vertical-align: middle;\n",
       "    }\n",
       "\n",
       "    .dataframe tbody tr th {\n",
       "        vertical-align: top;\n",
       "    }\n",
       "\n",
       "    .dataframe thead th {\n",
       "        text-align: right;\n",
       "    }\n",
       "</style>\n",
       "<table border=\"1\" class=\"dataframe\">\n",
       "  <thead>\n",
       "    <tr style=\"text-align: right;\">\n",
       "      <th></th>\n",
       "      <th>actors</th>\n",
       "      <th>director</th>\n",
       "      <th>writer</th>\n",
       "    </tr>\n",
       "  </thead>\n",
       "  <tbody>\n",
       "    <tr>\n",
       "      <th>0</th>\n",
       "      <td>EricRoberts</td>\n",
       "      <td>MichaelCurtiz</td>\n",
       "      <td>WilliamShakespeare</td>\n",
       "    </tr>\n",
       "    <tr>\n",
       "      <th>1</th>\n",
       "      <td>JohnCarradine</td>\n",
       "      <td>LesleySelander</td>\n",
       "      <td>RobertE.Kent</td>\n",
       "    </tr>\n",
       "    <tr>\n",
       "      <th>2</th>\n",
       "      <td>HenryO'Neill</td>\n",
       "      <td>RichardThorpe</td>\n",
       "      <td>BenHecht</td>\n",
       "    </tr>\n",
       "    <tr>\n",
       "      <th>3</th>\n",
       "      <td>MichaelMadsen</td>\n",
       "      <td>WilliamBeaudine</td>\n",
       "      <td>WoodyAllen</td>\n",
       "    </tr>\n",
       "    <tr>\n",
       "      <th>4</th>\n",
       "      <td>JohnWayne</td>\n",
       "      <td>JohnFord</td>\n",
       "      <td>StephenKing</td>\n",
       "    </tr>\n",
       "  </tbody>\n",
       "</table>\n",
       "</div>"
      ],
      "text/plain": [
       "          actors         director              writer\n",
       "0    EricRoberts    MichaelCurtiz  WilliamShakespeare\n",
       "1  JohnCarradine   LesleySelander        RobertE.Kent\n",
       "2   HenryO'Neill    RichardThorpe            BenHecht\n",
       "3  MichaelMadsen  WilliamBeaudine          WoodyAllen\n",
       "4      JohnWayne         JohnFord         StephenKing"
      ]
     },
     "execution_count": 31,
     "metadata": {},
     "output_type": "execute_result"
    }
   ],
   "source": [
    "Eng_df[['actors', 'director', 'writer']].agg(lambda s: top_vals(s, 5))"
   ]
  },
  {
   "cell_type": "markdown",
   "id": "f33e14c9",
   "metadata": {},
   "source": [
    "*Các phim tiếng Anh mặt dù chiếm đa số nhưng không vì vậy mà các giá trị **actors, director, writer** của các phim tiếng Anh sẽ chiếm đa số theo*"
   ]
  },
  {
   "cell_type": "markdown",
   "id": "955a3204",
   "metadata": {},
   "source": [
    "---"
   ]
  },
  {
   "cell_type": "markdown",
   "id": "2b673288",
   "metadata": {},
   "source": [
    "# Đặt câu hỏi"
   ]
  },
  {
   "cell_type": "code",
   "execution_count": null,
   "id": "607ff060",
   "metadata": {},
   "outputs": [],
   "source": []
  }
 ],
 "metadata": {
  "kernelspec": {
   "display_name": "Python 3",
   "language": "python",
   "name": "python3"
  },
  "language_info": {
   "codemirror_mode": {
    "name": "ipython",
    "version": 3
   },
   "file_extension": ".py",
   "mimetype": "text/x-python",
   "name": "python",
   "nbconvert_exporter": "python",
   "pygments_lexer": "ipython3",
   "version": "3.8.8"
  }
 },
 "nbformat": 4,
 "nbformat_minor": 5
}
