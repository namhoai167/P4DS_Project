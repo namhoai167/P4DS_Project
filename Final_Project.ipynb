{
 "cells": [
  {
   "cell_type": "markdown",
   "id": "1573e225-fdf2-4225-b7ec-88a4adc24da5",
   "metadata": {},
   "source": [
    "# Import"
   ]
  },
  {
   "cell_type": "code",
   "execution_count": 3,
   "id": "92a1d715-6737-4faa-ac92-8b1be84c42ad",
   "metadata": {},
   "outputs": [],
   "source": [
    "import numpy as np\n",
    "import pandas as pd\n",
    "import matplotlib.pyplot as plt\n",
    "plt.style.use('ggplot')\n",
    "pd.set_option('display.max_columns', None)"
   ]
  },
  {
   "cell_type": "markdown",
   "id": "ce1d00e5-3bc1-4c75-92cd-9225f23100e3",
   "metadata": {},
   "source": [
    "# Thu thập dữ liệu"
   ]
  },
  {
   "cell_type": "markdown",
   "id": "0db8d927-8341-4e03-88b2-db6125a42a42",
   "metadata": {},
   "source": [
    "## Dữ liệu của bạn là về chủ đề gì và bạn lấy từ nguồn nào?\n",
    "\n",
    "##  Người ta có cho phép bạn dùng dữ liệu như này không?\n",
    "Ví dụ, bạn có thể xem thử license của dữ liệu là gì\n",
    "\n",
    "##  Người ta thu thập dữ liệu như thế nào?"
   ]
  },
  {
   "cell_type": "markdown",
   "id": "8e53f3d5-9c9a-4832-adf7-a8892adc52e0",
   "metadata": {},
   "source": [
    "# Khám phá dữ liệu & tiền xử lý dữ liệu"
   ]
  },
  {
   "cell_type": "code",
   "execution_count": 4,
   "id": "bf68a941-a72a-402a-b198-a0aaea4d7de2",
   "metadata": {},
   "outputs": [
    {
     "name": "stderr",
     "output_type": "stream",
     "text": [
      "/home/nam/.local/lib/python3.8/site-packages/IPython/core/interactiveshell.py:3165: DtypeWarning: Columns (3) have mixed types.Specify dtype option on import or set low_memory=False.\n",
      "  has_raised = await self.run_ast_nodes(code_ast.body, cell_name,\n"
     ]
    },
    {
     "data": {
      "text/html": [
       "<div>\n",
       "<style scoped>\n",
       "    .dataframe tbody tr th:only-of-type {\n",
       "        vertical-align: middle;\n",
       "    }\n",
       "\n",
       "    .dataframe tbody tr th {\n",
       "        vertical-align: top;\n",
       "    }\n",
       "\n",
       "    .dataframe thead th {\n",
       "        text-align: right;\n",
       "    }\n",
       "</style>\n",
       "<table border=\"1\" class=\"dataframe\">\n",
       "  <thead>\n",
       "    <tr style=\"text-align: right;\">\n",
       "      <th></th>\n",
       "      <th>imdb_title_id</th>\n",
       "      <th>title</th>\n",
       "      <th>original_title</th>\n",
       "      <th>year</th>\n",
       "      <th>date_published</th>\n",
       "      <th>genre</th>\n",
       "      <th>duration</th>\n",
       "      <th>country</th>\n",
       "      <th>language</th>\n",
       "      <th>director</th>\n",
       "      <th>writer</th>\n",
       "      <th>production_company</th>\n",
       "      <th>actors</th>\n",
       "      <th>description</th>\n",
       "      <th>avg_vote</th>\n",
       "      <th>votes</th>\n",
       "      <th>budget</th>\n",
       "      <th>usa_gross_income</th>\n",
       "      <th>worlwide_gross_income</th>\n",
       "      <th>metascore</th>\n",
       "      <th>reviews_from_users</th>\n",
       "      <th>reviews_from_critics</th>\n",
       "    </tr>\n",
       "  </thead>\n",
       "  <tbody>\n",
       "    <tr>\n",
       "      <th>0</th>\n",
       "      <td>tt0000009</td>\n",
       "      <td>Miss Jerry</td>\n",
       "      <td>Miss Jerry</td>\n",
       "      <td>1894</td>\n",
       "      <td>1894-10-09</td>\n",
       "      <td>Romance</td>\n",
       "      <td>45</td>\n",
       "      <td>USA</td>\n",
       "      <td>None</td>\n",
       "      <td>Alexander Black</td>\n",
       "      <td>Alexander Black</td>\n",
       "      <td>Alexander Black Photoplays</td>\n",
       "      <td>Blanche Bayliss, William Courtenay, Chauncey D...</td>\n",
       "      <td>The adventures of a female reporter in the 1890s.</td>\n",
       "      <td>5.9</td>\n",
       "      <td>154</td>\n",
       "      <td>NaN</td>\n",
       "      <td>NaN</td>\n",
       "      <td>NaN</td>\n",
       "      <td>NaN</td>\n",
       "      <td>1.0</td>\n",
       "      <td>2.0</td>\n",
       "    </tr>\n",
       "    <tr>\n",
       "      <th>1</th>\n",
       "      <td>tt0000574</td>\n",
       "      <td>The Story of the Kelly Gang</td>\n",
       "      <td>The Story of the Kelly Gang</td>\n",
       "      <td>1906</td>\n",
       "      <td>1906-12-26</td>\n",
       "      <td>Biography, Crime, Drama</td>\n",
       "      <td>70</td>\n",
       "      <td>Australia</td>\n",
       "      <td>None</td>\n",
       "      <td>Charles Tait</td>\n",
       "      <td>Charles Tait</td>\n",
       "      <td>J. and N. Tait</td>\n",
       "      <td>Elizabeth Tait, John Tait, Norman Campbell, Be...</td>\n",
       "      <td>True story of notorious Australian outlaw Ned ...</td>\n",
       "      <td>6.1</td>\n",
       "      <td>589</td>\n",
       "      <td>$ 2250</td>\n",
       "      <td>NaN</td>\n",
       "      <td>NaN</td>\n",
       "      <td>NaN</td>\n",
       "      <td>7.0</td>\n",
       "      <td>7.0</td>\n",
       "    </tr>\n",
       "  </tbody>\n",
       "</table>\n",
       "</div>"
      ],
      "text/plain": [
       "  imdb_title_id                        title               original_title  \\\n",
       "0     tt0000009                   Miss Jerry                   Miss Jerry   \n",
       "1     tt0000574  The Story of the Kelly Gang  The Story of the Kelly Gang   \n",
       "\n",
       "   year date_published                    genre  duration    country language  \\\n",
       "0  1894     1894-10-09                  Romance        45        USA     None   \n",
       "1  1906     1906-12-26  Biography, Crime, Drama        70  Australia     None   \n",
       "\n",
       "          director           writer          production_company  \\\n",
       "0  Alexander Black  Alexander Black  Alexander Black Photoplays   \n",
       "1     Charles Tait     Charles Tait              J. and N. Tait   \n",
       "\n",
       "                                              actors  \\\n",
       "0  Blanche Bayliss, William Courtenay, Chauncey D...   \n",
       "1  Elizabeth Tait, John Tait, Norman Campbell, Be...   \n",
       "\n",
       "                                         description  avg_vote  votes  budget  \\\n",
       "0  The adventures of a female reporter in the 1890s.       5.9    154     NaN   \n",
       "1  True story of notorious Australian outlaw Ned ...       6.1    589  $ 2250   \n",
       "\n",
       "  usa_gross_income worlwide_gross_income  metascore  reviews_from_users  \\\n",
       "0              NaN                   NaN        NaN                 1.0   \n",
       "1              NaN                   NaN        NaN                 7.0   \n",
       "\n",
       "   reviews_from_critics  \n",
       "0                   2.0  \n",
       "1                   7.0  "
      ]
     },
     "execution_count": 4,
     "metadata": {},
     "output_type": "execute_result"
    }
   ],
   "source": [
    "movies_df = pd.read_csv('./data/IMDb movies.csv')\n",
    "movies_df.head(2)"
   ]
  },
  {
   "cell_type": "code",
   "execution_count": 5,
   "id": "53491d47-a6b7-4997-8458-f4d932f52ab8",
   "metadata": {},
   "outputs": [
    {
     "data": {
      "text/html": [
       "<div>\n",
       "<style scoped>\n",
       "    .dataframe tbody tr th:only-of-type {\n",
       "        vertical-align: middle;\n",
       "    }\n",
       "\n",
       "    .dataframe tbody tr th {\n",
       "        vertical-align: top;\n",
       "    }\n",
       "\n",
       "    .dataframe thead th {\n",
       "        text-align: right;\n",
       "    }\n",
       "</style>\n",
       "<table border=\"1\" class=\"dataframe\">\n",
       "  <thead>\n",
       "    <tr style=\"text-align: right;\">\n",
       "      <th></th>\n",
       "      <th>imdb_title_id</th>\n",
       "      <th>title</th>\n",
       "      <th>original_title</th>\n",
       "      <th>year</th>\n",
       "      <th>date_published</th>\n",
       "      <th>genre</th>\n",
       "      <th>duration</th>\n",
       "      <th>country</th>\n",
       "      <th>language</th>\n",
       "      <th>director</th>\n",
       "      <th>writer</th>\n",
       "      <th>production_company</th>\n",
       "      <th>actors</th>\n",
       "      <th>description</th>\n",
       "      <th>avg_vote</th>\n",
       "      <th>votes</th>\n",
       "      <th>budget</th>\n",
       "      <th>usa_gross_income</th>\n",
       "      <th>worlwide_gross_income</th>\n",
       "      <th>metascore</th>\n",
       "      <th>reviews_from_users</th>\n",
       "      <th>reviews_from_critics</th>\n",
       "    </tr>\n",
       "  </thead>\n",
       "  <tbody>\n",
       "    <tr>\n",
       "      <th>0</th>\n",
       "      <td>tt0000009</td>\n",
       "      <td>Miss Jerry</td>\n",
       "      <td>Miss Jerry</td>\n",
       "      <td>1894</td>\n",
       "      <td>1894-10-09</td>\n",
       "      <td>Romance</td>\n",
       "      <td>45</td>\n",
       "      <td>USA</td>\n",
       "      <td>None</td>\n",
       "      <td>Alexander Black</td>\n",
       "      <td>Alexander Black</td>\n",
       "      <td>Alexander Black Photoplays</td>\n",
       "      <td>Blanche Bayliss, William Courtenay, Chauncey D...</td>\n",
       "      <td>The adventures of a female reporter in the 1890s.</td>\n",
       "      <td>5.9</td>\n",
       "      <td>154</td>\n",
       "      <td>NaN</td>\n",
       "      <td>NaN</td>\n",
       "      <td>NaN</td>\n",
       "      <td>NaN</td>\n",
       "      <td>1.0</td>\n",
       "      <td>2.0</td>\n",
       "    </tr>\n",
       "    <tr>\n",
       "      <th>1</th>\n",
       "      <td>tt0000574</td>\n",
       "      <td>The Story of the Kelly Gang</td>\n",
       "      <td>The Story of the Kelly Gang</td>\n",
       "      <td>1906</td>\n",
       "      <td>1906-12-26</td>\n",
       "      <td>Biography, Crime, Drama</td>\n",
       "      <td>70</td>\n",
       "      <td>Australia</td>\n",
       "      <td>None</td>\n",
       "      <td>Charles Tait</td>\n",
       "      <td>Charles Tait</td>\n",
       "      <td>J. and N. Tait</td>\n",
       "      <td>Elizabeth Tait, John Tait, Norman Campbell, Be...</td>\n",
       "      <td>True story of notorious Australian outlaw Ned ...</td>\n",
       "      <td>6.1</td>\n",
       "      <td>589</td>\n",
       "      <td>$ 2250</td>\n",
       "      <td>NaN</td>\n",
       "      <td>NaN</td>\n",
       "      <td>NaN</td>\n",
       "      <td>7.0</td>\n",
       "      <td>7.0</td>\n",
       "    </tr>\n",
       "  </tbody>\n",
       "</table>\n",
       "</div>"
      ],
      "text/plain": [
       "  imdb_title_id                        title               original_title  \\\n",
       "0     tt0000009                   Miss Jerry                   Miss Jerry   \n",
       "1     tt0000574  The Story of the Kelly Gang  The Story of the Kelly Gang   \n",
       "\n",
       "   year date_published                    genre  duration    country language  \\\n",
       "0  1894     1894-10-09                  Romance        45        USA     None   \n",
       "1  1906     1906-12-26  Biography, Crime, Drama        70  Australia     None   \n",
       "\n",
       "          director           writer          production_company  \\\n",
       "0  Alexander Black  Alexander Black  Alexander Black Photoplays   \n",
       "1     Charles Tait     Charles Tait              J. and N. Tait   \n",
       "\n",
       "                                              actors  \\\n",
       "0  Blanche Bayliss, William Courtenay, Chauncey D...   \n",
       "1  Elizabeth Tait, John Tait, Norman Campbell, Be...   \n",
       "\n",
       "                                         description  avg_vote  votes  budget  \\\n",
       "0  The adventures of a female reporter in the 1890s.       5.9    154     NaN   \n",
       "1  True story of notorious Australian outlaw Ned ...       6.1    589  $ 2250   \n",
       "\n",
       "  usa_gross_income worlwide_gross_income  metascore  reviews_from_users  \\\n",
       "0              NaN                   NaN        NaN                 1.0   \n",
       "1              NaN                   NaN        NaN                 7.0   \n",
       "\n",
       "   reviews_from_critics  \n",
       "0                   2.0  \n",
       "1                   7.0  "
      ]
     },
     "execution_count": 5,
     "metadata": {},
     "output_type": "execute_result"
    }
   ],
   "source": [
    "ratings_df = pd.read_csv('./data/IMDb ratings.csv')\n",
    "movies_df.head(2)"
   ]
  },
  {
   "cell_type": "markdown",
   "id": "6f18e6a4-f293-4ad9-9de6-547ce169f113",
   "metadata": {},
   "source": [
    "## Dữ liệu có bao nhiêu dòng và bao nhiêu cột?\n",
    "Dữ liệu về phim trong movies_df có 85855 dòng và 22 cột  \n",
    "Dữ liệu điểm bình chọn trong ratings_df có 85855 dòng và 49 cột  "
   ]
  },
  {
   "cell_type": "code",
   "execution_count": 6,
   "id": "37be014d-2980-4426-8aa9-72ac012bb274",
   "metadata": {},
   "outputs": [
    {
     "data": {
      "text/plain": [
       "(85855, 22)"
      ]
     },
     "execution_count": 6,
     "metadata": {},
     "output_type": "execute_result"
    }
   ],
   "source": [
    "movies_df.shape"
   ]
  },
  {
   "cell_type": "code",
   "execution_count": 7,
   "id": "3f9d3f3c-6b4c-4823-8d5d-0ce3b95b37c4",
   "metadata": {},
   "outputs": [
    {
     "data": {
      "text/plain": [
       "(85855, 49)"
      ]
     },
     "execution_count": 7,
     "metadata": {},
     "output_type": "execute_result"
    }
   ],
   "source": [
    "ratings_df.shape"
   ]
  },
  {
   "cell_type": "markdown",
   "id": "cedc3cb8-feee-4b82-8d33-5499355449e8",
   "metadata": {},
   "source": [
    "## Mỗi dòng có ý nghĩa gì? Có vấn đề các dòng có ý nghĩa khác nhau không?\n",
    "Mỗi dòng trong movies_df là thông tin của một bộ phim trên trang IMDb  \n",
    "Mỗi dòng trong ratings_df là điểm đánh giá chi tiết của một bộ phim trên trang IMDb  "
   ]
  },
  {
   "cell_type": "markdown",
   "id": "5c75464f-b74a-4bf7-ba2f-b85ef2d34e44",
   "metadata": {},
   "source": [
    "## Dữ liệu có các dòng bị lặp không?\n",
    "Dữ liệu về phim không có các dòng bị lặp  \n",
    "Dữ liệu điểm bình chọn không có các dòng bị lặp"
   ]
  },
  {
   "cell_type": "code",
   "execution_count": 8,
   "id": "94ea93a9-397d-4dec-aca5-14ad611a9f38",
   "metadata": {},
   "outputs": [
    {
     "data": {
      "text/plain": [
       "False"
      ]
     },
     "execution_count": 8,
     "metadata": {},
     "output_type": "execute_result"
    }
   ],
   "source": [
    "ratings_df.duplicated().any()"
   ]
  },
  {
   "cell_type": "code",
   "execution_count": 9,
   "id": "fe7b475b-0d4a-4805-b5a5-55c3de3bb9e2",
   "metadata": {},
   "outputs": [
    {
     "data": {
      "text/plain": [
       "False"
      ]
     },
     "execution_count": 9,
     "metadata": {},
     "output_type": "execute_result"
    }
   ],
   "source": [
    "movies_df.duplicated().any()"
   ]
  },
  {
   "cell_type": "markdown",
   "id": "29a2fcfb-b7ac-47e5-9377-e79f47b94ddb",
   "metadata": {},
   "source": [
    "## Mỗi cột có ý nghĩa gì?"
   ]
  },
  {
   "cell_type": "markdown",
   "id": "d5be2a46-ea03-4596-8d54-ecae2f34c468",
   "metadata": {},
   "source": [
    "### ratings_df\n",
    "\n",
    "1. imdb_title_id: mã định danh của tựa đề phim\n",
    "2. weighted_average_vote: điểm sau khi tính theo trung bình trọng số\n",
    "3. total_votes: số lượng bình chọn\n",
    "4. mean_vote: điểm bình chọn trung bình\n",
    "5. median_vote: điểm bình chọn trung vị\n",
    "6. votes_10: số lượng bình chọn điểm 10\n",
    "7. votes_9: số lượng bình chọn điểm 9\n",
    "8. votes_8: số lượng bình chọn điểm 8\n",
    "9. votes_7: số lượng bình chọn điểm 7\n",
    "10. votes_6: số lượng bình chọn điểm 6\n",
    "11. votes_5: số lượng bình chọn điểm 5\n",
    "12. votes_4: số lượng bình chọn điểm 4\n",
    "13. votes_3: số lượng bình chọn điểm 3\n",
    "14. votes_2: số lượng bình chọn điểm 2\n",
    "15. votes_1: số lượng bình chọn điểm 1\n",
    "16. allgenders_0age_avg_vote: điểm bình chọn trung bình của tất cả người dùng dưới 18 tuổi\n",
    "17. allgenders_0age_votes: số lượng bình chọn của người dùng dưới 18 tuổi\n",
    "18. allgenders_18age_avg_vote: điểm bình chọn trung bình của tất cả người dùng 18-30 tuổi\n",
    "19. allgenders_18age_votes: số lượng bình chọn của người dùng 18-30 tuổi\n",
    "20. allgenders_30age_avg_vote: điểm bình chọn trung bình của tất cả người dùng 30-45 tuổi\n",
    "21. allgenders_30age_votes: số lượng bình chọn của người dùng 30-45 tuổi\n",
    "22. allgenders_45age_avg_vote: điểm bình chọn trung bình của tất cả người dùng trên 45 tuổi\n",
    "23. allgenders_45age_votes: số lượng bình chọn của người dùng trên 45 tuổi\n",
    "24. males_allages_avg_vote: điểm bình chọn trung bình của tất cả người dùng nam\n",
    "25. males_allages_votes: số lượng bình chọn của tất cả người dùng nam\n",
    "26. males_0age_avg_vote: điểm bình chọn trung bình của tất cả người dùng nam dưới 18 tuổi\n",
    "27. males_0age_votes: số lượng bình chọn của tất cả người dùng nam dưới 18 tuổi\n",
    "28. males_18age_avg_vote: điểm bình chọn trung bình của tất cả người dùng nam 18-30 tuổi\n",
    "29. males_18age_votes: số lượng bình chọn của tất cả người dùng nam 18-30 tuổi\n",
    "30. males_30age_avg_vote: điểm bình chọn trung bình của tất cả người dùng nam 30-45 tuổi\n",
    "31. males_30age_votes: số lượng bình chọn của tất cả người dùng nam 30-45 tuổi\n",
    "32. males_45age_avg_vote: điểm bình chọn trung bình của tất cả người dùng nam trên 45 tuổi\n",
    "33. males_45age_votes: số lượng bình chọn của tất cả người dùng nam trên 45 tuổi\n",
    "34. females_allages_avg_vote: điểm bình chọn trung bình của tất cả người dùng nữ\n",
    "35. females_allages_votes: số lượng bình chọn của tất cả người dùng nữ\n",
    "36. females_0age_avg_vote: điểm bình chọn trung bình của tất cả người dùng nam dưới 18 tuổi\n",
    "37. females_0age_votes: số lượng bình chọn của tất cả người dùng nam dưới 18 tuổi\n",
    "38. females_18age_avg_vote: điểm bình chọn trung bình của tất cả người dùng nam 18-30 tuổi\n",
    "39. females_18age_votes: số lượng bình chọn của tất cả người dùng nam 18-30 tuổi\n",
    "40. females_30age_avg_vote: điểm bình chọn trung bình của tất cả người dùng nam 30-45 tuổi\n",
    "41. females_30age_votes: số lượng bình chọn của tất cả người dùng nam 30-45 tuổi\n",
    "42. females_45age_avg_vote: điểm bình chọn trung bình của tất cả người dùng nam trên 45 tuổi\n",
    "43. females_45age_votes: số lượng bình chọn của tất cả người dùng nam trên 45 tuổi\n",
    "44. top1000_voters_rating\n",
    "45. top1000_voters_votes\n",
    "46. us_voters_rating: điểm bình chọn trung bình của những người dùng từ Mỹ\n",
    "47. us_voters_votes: số lượng bình chọn của những người dùng từ Mỹ\n",
    "48. non_us_voters_rating: điểm bình chọn trung bình của những người dùng không đến từ Mỹ\n",
    "49. non_us_voters_votes: số lượng bình chọn của những người dùng không đến từ Mỹ"
   ]
  },
  {
   "cell_type": "markdown",
   "id": "d054022f-c600-4f0a-a7cd-702edbd25030",
   "metadata": {},
   "source": [
    "### movies_df\n",
    "\n",
    "| Tên cột | Ý nghĩa của cột | \n",
    "|:---------|:-----------------|\n",
    "| ***imdb_title_id*** | ID phim trên trang IMDb |\n",
    "| ***title*** | tên phim |\n",
    "| ***original_title*** | tên gốc của phim |\n",
    "| ***year*** | năm phát hành (4 chữ số) |\n",
    "| ***date_published*** | ngày phát hành |\n",
    "| ***genre*** | thể loại phim (1 phim có thể thuộc nhiều thể loại) |\n",
    "| ***duration*** | thời lượng phim (phút)|\n",
    "| ***country*** | quốc gia của phim |\n",
    "| ***language*** | ngôn ngữ sử dụng trong phim |\n",
    "| ***director*** | tên đạo diễn |\n",
    "| ***writer*** | tên biên kịch |\n",
    "| ***production_company*** | tên công ty sản xuất |\n",
    "| ***actors*** | diễn viên |\n",
    "| ***description*** | mô tả phim |\n",
    "| ***avg_vote*** | điểm đánh giá trung bình (thang 10) |\n",
    "| ***votes*** | số lượng đánh giá |\n",
    "| ***budget*** | kinh phí làm phim (đơn vị tiền tệ không đồng nhất) |\n",
    "| ***usa_gross_income*** | tổng doanh thu tại Mỹ (đô la Mỹ) |\n",
    "| ***worlwide_gross_income*** | tổng doanh thu trên toàn thế giới (đô la Mỹ) |\n",
    "| ***metascore*** $^{(*)}$ | đánh giá của những người có chuyên môn (thang 100) |\n",
    "| ***reviews_from_users*** | số lượng review từ người dùng |\n",
    "| ***reviews_from_critics*** | số lượng review từ nhà phê bình |\n",
    "\n",
    "(\\*): ***metascore*** lấy từ trang https://www.metacritic.com/, 2 cột ***reviews_from_users*** và ***reviews_from_critics*** sẽ ứng với các review trên trang này"
   ]
  },
  {
   "cell_type": "markdown",
   "id": "f97dd57e-2f86-417d-8174-9c98559935bf",
   "metadata": {},
   "source": [
    "## Mỗi cột hiện đang có kiểu dữ liệu gì? Có cột nào có kiểu dữ liệu chưa phù hợp để có thể xử lý tiếp không?"
   ]
  },
  {
   "cell_type": "code",
   "execution_count": null,
   "id": "924b9079-8a2b-475a-a2f8-2d8bcbfe105a",
   "metadata": {},
   "outputs": [],
   "source": [
    "movies_df.dtypes"
   ]
  },
  {
   "cell_type": "markdown",
   "id": "c0469a71-e3f1-4443-82ca-0fd11a6a4c8d",
   "metadata": {},
   "source": [
    "**Dựa vào mô tả thì có các cột cần có sự điều chỉnh về kiểu dữ liệu:**\n",
    "- Các cột ***year, budget, usa_gross_income, worlwide_gross_income*** nên được đưa về các kiểu `numeric`.\n",
    "- Cột ***date_published*** cần được đưa về kiểu `datetime`"
   ]
  },
  {
   "cell_type": "code",
   "execution_count": 7,
   "id": "18ff8d0b-ec1e-497a-a226-4ec12eba0e08",
   "metadata": {},
   "outputs": [
    {
     "name": "stdout",
     "output_type": "stream",
     "text": [
      "<class 'pandas.core.frame.DataFrame'>\n",
      "RangeIndex: 85855 entries, 0 to 85854\n",
      "Data columns (total 49 columns):\n",
      " #   Column                     Non-Null Count  Dtype  \n",
      "---  ------                     --------------  -----  \n",
      " 0   imdb_title_id              85855 non-null  object \n",
      " 1   weighted_average_vote      85855 non-null  float64\n",
      " 2   total_votes                85855 non-null  int64  \n",
      " 3   mean_vote                  85855 non-null  float64\n",
      " 4   median_vote                85855 non-null  float64\n",
      " 5   votes_10                   85855 non-null  int64  \n",
      " 6   votes_9                    85855 non-null  int64  \n",
      " 7   votes_8                    85855 non-null  int64  \n",
      " 8   votes_7                    85855 non-null  int64  \n",
      " 9   votes_6                    85855 non-null  int64  \n",
      " 10  votes_5                    85855 non-null  int64  \n",
      " 11  votes_4                    85855 non-null  int64  \n",
      " 12  votes_3                    85855 non-null  int64  \n",
      " 13  votes_2                    85855 non-null  int64  \n",
      " 14  votes_1                    85855 non-null  int64  \n",
      " 15  allgenders_0age_avg_vote   33359 non-null  float64\n",
      " 16  allgenders_0age_votes      33359 non-null  float64\n",
      " 17  allgenders_18age_avg_vote  85149 non-null  float64\n",
      " 18  allgenders_18age_votes     85149 non-null  float64\n",
      " 19  allgenders_30age_avg_vote  85845 non-null  float64\n",
      " 20  allgenders_30age_votes     85845 non-null  float64\n",
      " 21  allgenders_45age_avg_vote  85775 non-null  float64\n",
      " 22  allgenders_45age_votes     85775 non-null  float64\n",
      " 23  males_allages_avg_vote     85854 non-null  float64\n",
      " 24  males_allages_votes        85854 non-null  float64\n",
      " 25  males_0age_avg_vote        27411 non-null  float64\n",
      " 26  males_0age_votes           27411 non-null  float64\n",
      " 27  males_18age_avg_vote       84390 non-null  float64\n",
      " 28  males_18age_votes          84390 non-null  float64\n",
      " 29  males_30age_avg_vote       85843 non-null  float64\n",
      " 30  males_30age_votes          85843 non-null  float64\n",
      " 31  males_45age_avg_vote       85754 non-null  float64\n",
      " 32  males_45age_votes          85754 non-null  float64\n",
      " 33  females_allages_avg_vote   85774 non-null  float64\n",
      " 34  females_allages_votes      85774 non-null  float64\n",
      " 35  females_0age_avg_vote      22117 non-null  float64\n",
      " 36  females_0age_votes         22117 non-null  float64\n",
      " 37  females_18age_avg_vote     79334 non-null  float64\n",
      " 38  females_18age_votes        79334 non-null  float64\n",
      " 39  females_30age_avg_vote     84911 non-null  float64\n",
      " 40  females_30age_votes        84911 non-null  float64\n",
      " 41  females_45age_avg_vote     83057 non-null  float64\n",
      " 42  females_45age_votes        83057 non-null  float64\n",
      " 43  top1000_voters_rating      85176 non-null  float64\n",
      " 44  top1000_voters_votes       85176 non-null  float64\n",
      " 45  us_voters_rating           85646 non-null  float64\n",
      " 46  us_voters_votes            85646 non-null  float64\n",
      " 47  non_us_voters_rating       85854 non-null  float64\n",
      " 48  non_us_voters_votes        85854 non-null  float64\n",
      "dtypes: float64(37), int64(11), object(1)\n",
      "memory usage: 32.1+ MB\n"
     ]
    }
   ],
   "source": [
    "ratings_df.dtypes"
   ]
  },
  {
   "cell_type": "markdown",
   "id": "d911988a-1e4c-4aeb-ae49-3f5143707dc1",
   "metadata": {},
   "source": [
    "Cột imdb_title_id đang ở dạng object, các phần tử đều ở dạng chuỗi dạng chuỗi nên không cần xử lý  \n",
    "Các cột số lượng đang ở kiểu số thực float64, đúng hơn là nên ở dạng số nguyên int. Nhưng đây là do dữ liệu của tác giả để kiểu số thực, việc ép kiểu về số nguyên có thể gây mất mát dữ liệu. Đó các cột: allgenders_18age_votes, allgenders_30age_votes, allgenders_45age_votes, males_allages_votes, males_18age_votes, males_30age_votes, males_45age_votes, females_allages_votes, females_18age_votes, females_30age_votes, females_45age_votes, us_voters_votes, non_us_voters_votes. "
   ]
  },
  {
   "cell_type": "markdown",
   "id": "b88530a5-13be-485f-bc78-76e88388b9fa",
   "metadata": {},
   "source": [
    "## Số-lượng/tỉ-lệ các giá trị thiếu?"
   ]
  },
  {
   "cell_type": "markdown",
   "id": "a4259777-7141-4767-904e-0883a11ad094",
   "metadata": {},
   "source": [
    "- Vì nhìn qua thì có các cột bị thiếu rất nhiều nên cần kiểm tra để loại bỏ nếu không thực sự cần thiết"
   ]
  },
  {
   "cell_type": "code",
   "execution_count": null,
   "id": "fcb4e42d-f49c-4af7-8bef-8125ae7c1fd8",
   "metadata": {},
   "outputs": [],
   "source": [
    "def missing_ratio(s):\n",
    "    return s.isnull().mean() * 100\n",
    "\n",
    "ratings_df.agg(missing_ratio)"
   ]
  },
  {
   "cell_type": "code",
   "execution_count": null,
   "id": "0d5d011a-fe77-491c-8c93-86b7174ef2f0",
   "metadata": {},
   "outputs": [],
   "source": [
    "movies_df.agg(missing_ratio)"
   ]
  },
  {
   "cell_type": "markdown",
   "id": "a707293e-c3bf-4746-bb23-3b9888de3fc6",
   "metadata": {},
   "source": [
    "## Tiền xử lý bỏ cột có giá trị thiếu nhiều và bỏ cột chúng tôi không hiểu rõ ý nghĩa\n",
    "### ratings_df\n",
    "- Bỏ cột có giá trị thiếu nhiều: allgenders_0age_avg_vote, allgenders_0age_votes, males_0age_avg_vote, males_0age_votes, females_0age_avg_vote, females_0age_votes\n",
    "- Bỏ cột chúng tôi không hiểu rõ ý nghĩa: top1000_voters_rating, top1000_voters_votes\n",
    "\n",
    "### movies_df\n",
    "- Bỏ đi các cột thiếu hơn 50% dữ liệu: ***budget, usa_gross_income, worlwide_gross_income, metascore***\n",
    "- Do bỏ cột ***metascore*** nên sẽ bỏ luôn hai cột bổ sung thông tin cho cột này là: ***reviews_from_users, reviews_from_critics***"
   ]
  },
  {
   "cell_type": "code",
   "execution_count": 15,
   "id": "8edd3451-9fed-413e-8624-4521b2045f0b",
   "metadata": {},
   "outputs": [],
   "source": [
    "ratings_df.drop(columns=['allgenders_0age_avg_vote', \n",
    "                         'allgenders_0age_votes', \n",
    "                         'males_0age_avg_vote', \n",
    "                         'males_0age_votes', \n",
    "                         'females_0age_avg_vote', \n",
    "                         'females_0age_votes', \n",
    "                         'top1000_voters_rating', \n",
    "                         'top1000_voters_votes'], inplace=True)"
   ]
  },
  {
   "cell_type": "code",
   "execution_count": 8,
   "id": "86afe33d-398a-4e21-9c27-e4aa9c7e026e",
   "metadata": {},
   "outputs": [],
   "source": [
    "movies_df = movies_df.drop(columns=['budget', \n",
    "                                    'usa_gross_income', \n",
    "                                    'worlwide_gross_income', \n",
    "                                    'metascore', \n",
    "                                    'reviews_from_users', \n",
    "                                    'reviews_from_critics'])"
   ]
  },
  {
   "cell_type": "markdown",
   "id": "83ee9e75-436b-46c0-95af-5fb6d22f0f4b",
   "metadata": {},
   "source": [
    "### Điều chỉnh kiểu dữ liệu cho phù hợp cho các cột"
   ]
  },
  {
   "cell_type": "markdown",
   "id": "86a635b8-e434-45a1-8f05-30e33f86d91b",
   "metadata": {},
   "source": [
    "- Do đã bỏ đi một số cột nên còn lại 2 cột ***year*** và ***date_published*** là cần điều chỉnh"
   ]
  },
  {
   "cell_type": "markdown",
   "id": "43d68dbc-9d81-4f92-8a08-47d7ad9f49f0",
   "metadata": {},
   "source": [
    "**Điều chỉnh cột year:**\n",
    "- Có một warning khi đọc dữ liệu là cột ***year*** có kiểu dữ liệu hỗn hợp nên trước tiên sẽ là kiểm tra xem cột ***year*** có các kiểu dữ liệu gì"
   ]
  },
  {
   "cell_type": "code",
   "execution_count": 9,
   "id": "3c5f017d-ffe0-4cdf-a8c4-33bf1abd1c55",
   "metadata": {},
   "outputs": [
    {
     "data": {
      "text/plain": [
       "{int, str}"
      ]
     },
     "execution_count": 9,
     "metadata": {},
     "output_type": "execute_result"
    }
   ],
   "source": [
    "set(movies_df.year.apply(type))"
   ]
  },
  {
   "cell_type": "markdown",
   "id": "1b511a23-0792-4c9c-9b04-767b24ebec02",
   "metadata": {},
   "source": [
    "- Ngoài kiểu `int` là hợp lý ***year*** thì còn kiểu `str` cần phải chỉnh sửa, sao khi thử chuyển thì báo lỗi\n",
    "\n",
    "`Unable to parse string \"TV Movie 2019\" at position 83917`\n",
    "\n",
    "- Nên xóa dòng mà cột ***year*** nhận giá trị \"TV Movie 2019\" rồi mới chuyển về dạng `numeric`"
   ]
  },
  {
   "cell_type": "code",
   "execution_count": 10,
   "id": "5a545262-ccc3-487e-96b7-1dbb13957c7b",
   "metadata": {},
   "outputs": [
    {
     "data": {
      "text/plain": [
       "dtype('int64')"
      ]
     },
     "execution_count": 10,
     "metadata": {},
     "output_type": "execute_result"
    }
   ],
   "source": [
    "movies_df = movies_df[movies_df.date_published != 'TV Movie 2019']\n",
    "movies_df.year = pd.to_numeric(movies_df.year)\n",
    "movies_df.year.dtypes"
   ]
  },
  {
   "cell_type": "markdown",
   "id": "be2a6d30-41b2-4399-bd2d-01f20ff34121",
   "metadata": {},
   "source": [
    "**Điều chỉnh cột *date_published* về dạng `datetime`**"
   ]
  },
  {
   "cell_type": "markdown",
   "id": "f35ef9ff-5477-4e59-819d-bd33a7f71c95",
   "metadata": {},
   "source": [
    "- Trước khi điều chỉnh kiểu dữ liệu thì có một vấn đề cần xử lý với cột ***date_published*** đó là có các giá trị chỉ có năm không có ngày tháng "
   ]
  },
  {
   "cell_type": "code",
   "execution_count": 11,
   "id": "ddf1a5fd-2fac-4e70-be8e-b259cd5ffc7c",
   "metadata": {},
   "outputs": [
    {
     "data": {
      "text/plain": [
       "5      1913\n",
       "55     1915\n",
       "100    1919\n",
       "117    1919\n",
       "144    1922\n",
       "Name: date_published, dtype: object"
      ]
     },
     "execution_count": 11,
     "metadata": {},
     "output_type": "execute_result"
    }
   ],
   "source": [
    "movies_df.date_published[movies_df.date_published.apply(lambda x: '-' not in str(x))].head()"
   ]
  },
  {
   "cell_type": "markdown",
   "id": "e8a5b199-23f8-4e36-956f-cb27b63e08f6",
   "metadata": {},
   "source": [
    "- Bỏ các cột này trước khi chuyển về dạng `datetime`, mặc dù không bỏ thì việc chuyển vẫn không có vấn đề tuy nhiên ngày tháng sẽ mặc định là 1/1 điều này sẽ gây sai lệch nếu ta muốn khảo sát mà có sử dụng cột này."
   ]
  },
  {
   "cell_type": "code",
   "execution_count": 12,
   "id": "b363b96c-1c7b-48c9-9870-7e8f92534403",
   "metadata": {},
   "outputs": [],
   "source": [
    "movies_df = movies_df[movies_df.date_published.apply(lambda x: '-' in str(x))]"
   ]
  },
  {
   "cell_type": "markdown",
   "id": "6ef3ea76-16d4-40d7-bf4e-4b2b8fd37573",
   "metadata": {},
   "source": [
    "- Chuyển cột ***date_published*** về dạng `datetime`"
   ]
  },
  {
   "cell_type": "code",
   "execution_count": 13,
   "id": "62da6992-071a-4974-b802-bb0b46b14993",
   "metadata": {},
   "outputs": [],
   "source": [
    "movies_df.date_published = pd.to_datetime(movies_df.date_published, format='%Y-%m-%d')"
   ]
  },
  {
   "cell_type": "code",
   "execution_count": 14,
   "id": "3250d291-dca4-4332-804f-37f17c1b432f",
   "metadata": {},
   "outputs": [
    {
     "data": {
      "text/plain": [
       "dtype('<M8[ns]')"
      ]
     },
     "execution_count": 14,
     "metadata": {},
     "output_type": "execute_result"
    }
   ],
   "source": [
    "movies_df.date_published.dtypes"
   ]
  },
  {
   "cell_type": "markdown",
   "id": "148bd609-5652-4487-afb5-acfc66fb6b65",
   "metadata": {},
   "source": [
    "- Theo mô tả dữ liệu thì cột ***year*** phải trùng với năm ở cột ***date_published***, kiểm tra thực điều này có thực sự đúng"
   ]
  },
  {
   "cell_type": "code",
   "execution_count": 15,
   "id": "65983ebc-0035-4387-a198-be8f762913e6",
   "metadata": {},
   "outputs": [
    {
     "data": {
      "text/plain": [
       "17054"
      ]
     },
     "execution_count": 15,
     "metadata": {},
     "output_type": "execute_result"
    }
   ],
   "source": [
    "sum(movies_df.year != movies_df.date_published.dt.year)"
   ]
  },
  {
   "cell_type": "markdown",
   "id": "ff6a4eaf-1da5-4962-ac51-a2332ebfb3fb",
   "metadata": {},
   "source": [
    "*Sai lệch rất nhiều,không biết vì sao lại có sự sai lệch này. Với sự sai lệch nhiều đến vậy thì có lẽ không phải do vấn đề nhập liệu*"
   ]
  },
  {
   "cell_type": "markdown",
   "id": "0e099ed2-0261-4a0b-8aa7-1d0fc619d0b5",
   "metadata": {},
   "source": [
    "- Vậy sẽ xóa cột ***year***"
   ]
  },
  {
   "cell_type": "code",
   "execution_count": 16,
   "id": "12eec65f-8ad1-4e86-86ad-887a03f4de09",
   "metadata": {},
   "outputs": [],
   "source": [
    "movies_df = movies_df.drop(columns=['year'])"
   ]
  },
  {
   "cell_type": "markdown",
   "id": "dd8c80c7-d2da-4f2a-bb81-7857ca43c835",
   "metadata": {},
   "source": [
    "### Xem lại dữ liệu sau khi đã điều chỉnh"
   ]
  },
  {
   "cell_type": "markdown",
   "id": "8d940253-e43b-4f88-85aa-8e3c80769e9b",
   "metadata": {},
   "source": [
    "**Số dòng số cột của dữ liệu**"
   ]
  },
  {
   "cell_type": "code",
   "execution_count": 17,
   "id": "c63d583c-90a5-4a9f-b31d-f9a775a63780",
   "metadata": {},
   "outputs": [
    {
     "data": {
      "text/plain": [
       "(81292, 15)"
      ]
     },
     "execution_count": 17,
     "metadata": {},
     "output_type": "execute_result"
    }
   ],
   "source": [
    "movies_df.shape"
   ]
  },
  {
   "cell_type": "code",
   "execution_count": null,
   "id": "555302fd-078f-4f40-af5e-ddd564039bc6",
   "metadata": {},
   "outputs": [],
   "source": [
    "ratings_df.shape"
   ]
  },
  {
   "cell_type": "markdown",
   "id": "889ca89f-c4e4-4552-be17-72d157e24b5d",
   "metadata": {},
   "source": [
    "**Xem lại kiểu dữ liệu của các cột**"
   ]
  },
  {
   "cell_type": "code",
   "execution_count": 18,
   "id": "afbc35e6-2cc1-4737-aae0-ccfc3b726361",
   "metadata": {},
   "outputs": [
    {
     "data": {
      "text/plain": [
       "imdb_title_id                 object\n",
       "title                         object\n",
       "original_title                object\n",
       "date_published        datetime64[ns]\n",
       "genre                         object\n",
       "duration                       int64\n",
       "country                       object\n",
       "language                      object\n",
       "director                      object\n",
       "writer                        object\n",
       "production_company            object\n",
       "actors                        object\n",
       "description                   object\n",
       "avg_vote                     float64\n",
       "votes                          int64\n",
       "dtype: object"
      ]
     },
     "execution_count": 18,
     "metadata": {},
     "output_type": "execute_result"
    }
   ],
   "source": [
    "movies_df.dtypes"
   ]
  },
  {
   "cell_type": "code",
   "execution_count": null,
   "id": "11ca504f-c79a-423f-9257-51c304d0fdce",
   "metadata": {},
   "outputs": [],
   "source": [
    "ratings_df.dtypes"
   ]
  },
  {
   "cell_type": "markdown",
   "id": "eecdb665-54d0-4671-94e6-16ec5193efb4",
   "metadata": {},
   "source": [
    "## Với mỗi cột có kiểu dữ liệu dạng số (numeric), các giá trị được phân bố như thế nào?"
   ]
  },
  {
   "cell_type": "code",
   "execution_count": null,
   "id": "2c379cd3-4dcd-499a-b046-2d3e0111b295",
   "metadata": {},
   "outputs": [],
   "source": [
    "def num_diff_vals(s):\n",
    "    return s.nunique()\n",
    "def diff_vals(s):\n",
    "    return s.unique()"
   ]
  },
  {
   "cell_type": "markdown",
   "id": "b2ead09d-0fc9-4e29-afd1-3411b1eff6ee",
   "metadata": {},
   "source": [
    "### movies_df\n",
    "#### Xem xét các giá trị min max và tỷ lệ giá trị thiếu của các cột dạng numeric"
   ]
  },
  {
   "cell_type": "code",
   "execution_count": 19,
   "id": "a0d06792-8f01-4c3b-9161-5c0fab404cc9",
   "metadata": {},
   "outputs": [
    {
     "data": {
      "text/html": [
       "<div>\n",
       "<style scoped>\n",
       "    .dataframe tbody tr th:only-of-type {\n",
       "        vertical-align: middle;\n",
       "    }\n",
       "\n",
       "    .dataframe tbody tr th {\n",
       "        vertical-align: top;\n",
       "    }\n",
       "\n",
       "    .dataframe thead th {\n",
       "        text-align: right;\n",
       "    }\n",
       "</style>\n",
       "<table border=\"1\" class=\"dataframe\">\n",
       "  <thead>\n",
       "    <tr style=\"text-align: right;\">\n",
       "      <th></th>\n",
       "      <th>date_published</th>\n",
       "      <th>duration</th>\n",
       "      <th>avg_vote</th>\n",
       "      <th>votes</th>\n",
       "    </tr>\n",
       "  </thead>\n",
       "  <tbody>\n",
       "    <tr>\n",
       "      <th>min</th>\n",
       "      <td>1894-10-09 00:00:00</td>\n",
       "      <td>41.0</td>\n",
       "      <td>1.0</td>\n",
       "      <td>99.0</td>\n",
       "    </tr>\n",
       "    <tr>\n",
       "      <th>max</th>\n",
       "      <td>2021-05-07 00:00:00</td>\n",
       "      <td>808.0</td>\n",
       "      <td>9.9</td>\n",
       "      <td>2278845.0</td>\n",
       "    </tr>\n",
       "    <tr>\n",
       "      <th>missing_ratio</th>\n",
       "      <td>0.0</td>\n",
       "      <td>0.0</td>\n",
       "      <td>0.0</td>\n",
       "      <td>0.0</td>\n",
       "    </tr>\n",
       "  </tbody>\n",
       "</table>\n",
       "</div>"
      ],
      "text/plain": [
       "                    date_published  duration  avg_vote      votes\n",
       "min            1894-10-09 00:00:00      41.0       1.0       99.0\n",
       "max            2021-05-07 00:00:00     808.0       9.9  2278845.0\n",
       "missing_ratio                  0.0       0.0       0.0        0.0"
      ]
     },
     "execution_count": 19,
     "metadata": {},
     "output_type": "execute_result"
    }
   ],
   "source": [
    "num_cols = ['date_published', 'duration', 'avg_vote', 'votes']\n",
    "movies_df[num_cols].agg([min, max, missing_ratio])"
   ]
  },
  {
   "cell_type": "code",
   "execution_count": 19,
   "id": "9b6190da-6f88-4473-a7c6-95a51ff2762c",
   "metadata": {},
   "outputs": [
    {
     "data": {
      "text/html": [
       "<div>\n",
       "<style scoped>\n",
       "    .dataframe tbody tr th:only-of-type {\n",
       "        vertical-align: middle;\n",
       "    }\n",
       "\n",
       "    .dataframe tbody tr th {\n",
       "        vertical-align: top;\n",
       "    }\n",
       "\n",
       "    .dataframe thead th {\n",
       "        text-align: right;\n",
       "    }\n",
       "</style>\n",
       "<table border=\"1\" class=\"dataframe\">\n",
       "  <thead>\n",
       "    <tr style=\"text-align: right;\">\n",
       "      <th></th>\n",
       "      <th>date_published</th>\n",
       "      <th>duration</th>\n",
       "      <th>avg_vote</th>\n",
       "      <th>votes</th>\n",
       "    </tr>\n",
       "  </thead>\n",
       "  <tbody>\n",
       "    <tr>\n",
       "      <th>min</th>\n",
       "      <td>1894-10-09 00:00:00</td>\n",
       "      <td>41.0</td>\n",
       "      <td>1.0</td>\n",
       "      <td>99.0</td>\n",
       "    </tr>\n",
       "    <tr>\n",
       "      <th>max</th>\n",
       "      <td>2021-05-07 00:00:00</td>\n",
       "      <td>808.0</td>\n",
       "      <td>9.9</td>\n",
       "      <td>2278845.0</td>\n",
       "    </tr>\n",
       "    <tr>\n",
       "      <th>missing_ratio</th>\n",
       "      <td>0.0</td>\n",
       "      <td>0.0</td>\n",
       "      <td>0.0</td>\n",
       "      <td>0.0</td>\n",
       "    </tr>\n",
       "  </tbody>\n",
       "</table>\n",
       "</div>"
      ],
      "text/plain": [
       "                    date_published  duration  avg_vote      votes\n",
       "min            1894-10-09 00:00:00      41.0       1.0       99.0\n",
       "max            2021-05-07 00:00:00     808.0       9.9  2278845.0\n",
       "missing_ratio                  0.0       0.0       0.0        0.0"
      ]
     },
     "execution_count": 19,
     "metadata": {},
     "output_type": "execute_result"
    }
   ],
   "source": [
    "num_cols = ['date_published', 'duration', 'avg_vote', 'votes']\n",
    "movies_df[num_cols].agg([min, max, missing_ratio])"
   ]
  },
  {
   "cell_type": "markdown",
   "id": "a6428b53-1dde-4d84-8e72-9f24a1a2d0ce",
   "metadata": {},
   "source": [
    "- Các cột dạng numeric không có dữ liệu thiếu\n",
    "- Tiếp theo sẽ xem thử sự phân bố giá trị của các cột này, cột ***date_published*** là kiểu `datetime` nên ta không xem xét sự phân bố dữ liệu"
   ]
  },
  {
   "cell_type": "markdown",
   "id": "4c9e010b-c73c-4abd-90b6-8442ab1ae425",
   "metadata": {},
   "source": [
    "**Phân bố giá trị của cột year**"
   ]
  },
  {
   "cell_type": "code",
   "execution_count": 20,
   "id": "e3a5312a-c139-4d33-98db-eea158f734ca",
   "metadata": {
    "scrolled": true
   },
   "outputs": [
    {
     "data": {
      "image/png": "[encoded data removed]",
      "text/plain": [
       "<Figure size 432x288 with 1 Axes>"
      ]
     },
     "metadata": {},
     "output_type": "display_data"
    }
   ],
   "source": [
    "movies_df['date_published'].dt.year.hist(bins=np.arange(1894, 2022, 5))\n",
    "plt.xlabel('year')\n",
    "plt.title('Phân phối của cột year')\n",
    "plt.show()"
   ]
  },
  {
   "cell_type": "markdown",
   "id": "0af277bf-5b81-4afc-9fc4-08211837763c",
   "metadata": {},
   "source": [
    "*Nhận xét: số lượng phim luôn tăng qua các năm và có xu hướng tăng mạnh hơn qua từng năm. Và năm 2021 tất nhiên sẽ có rất ít phim*"
   ]
  },
  {
   "cell_type": "markdown",
   "id": "e0fccac7-2458-4602-b46c-bb95124ac966",
   "metadata": {},
   "source": [
    "**Phân bố giá trị của cột duration**\n",
    "\n",
    "Các giá trị trên 200 là quá ít nên bin cuối là 200"
   ]
  },
  {
   "cell_type": "code",
   "execution_count": 21,
   "id": "05609cc7-2b53-40e6-8ebb-fbd7f9bc0457",
   "metadata": {
    "scrolled": true
   },
   "outputs": [
    {
     "data": {
      "image/png": "[encoded data removed]",
      "text/plain": [
       "<Figure size 432x288 with 1 Axes>"
      ]
     },
     "metadata": {},
     "output_type": "display_data"
    }
   ],
   "source": [
    "movies_df['duration'].hist(bins=np.arange(40, 200, 5))\n",
    "plt.xlabel('duration')\n",
    "plt.title('Phân phối của cột duration')\n",
    "plt.show()"
   ]
  },
  {
   "cell_type": "markdown",
   "id": "ebb34b2c-de71-4c13-bc4a-b0b119c9ce25",
   "metadata": {},
   "source": [
    "*Nhận xét: thời lượng các bộ phim chủ yếu trong khoảng từ 80-120 phút*"
   ]
  },
  {
   "cell_type": "markdown",
   "id": "75c5826f-7a1b-4277-b3cd-78220689833d",
   "metadata": {},
   "source": [
    "**Phân bố giá trị của cột avg_vote**"
   ]
  },
  {
   "cell_type": "code",
   "execution_count": 22,
   "id": "a5a41469-83e2-4001-a7a3-21d14a705a0e",
   "metadata": {},
   "outputs": [
    {
     "data": {
      "image/png": "[encoded data removed]",
      "text/plain": [
       "<Figure size 432x288 with 1 Axes>"
      ]
     },
     "metadata": {},
     "output_type": "display_data"
    }
   ],
   "source": [
    "movies_df['avg_vote'].hist(bins=np.arange(1, 10, 0.5))\n",
    "plt.xlabel('avg_vote')\n",
    "plt.title('Phân phối của cột avg_vote')\n",
    "plt.show()"
   ]
  },
  {
   "cell_type": "markdown",
   "id": "a0dfbd77-437b-48ea-8095-211ead57150f",
   "metadata": {},
   "source": [
    "*Nhận xét: đa số các phim được đánh giá ở mức 5-7, rất ít phim có thể đạt được 9-10 (không có phim nào đạt được đánh gái 10 tuyệt đối)*"
   ]
  },
  {
   "cell_type": "markdown",
   "id": "ee4ff9c9-205e-4fa0-8d78-bf8e1866df5c",
   "metadata": {},
   "source": [
    "**Phân bố giá trị của cột votes**\n",
    "\n",
    "Các giá trị trên 6000 là quá ít nên bin cuối là 6000"
   ]
  },
  {
   "cell_type": "code",
   "execution_count": 23,
   "id": "873616d8-4192-4fc6-84fb-eae359ea6bb4",
   "metadata": {},
   "outputs": [
    {
     "data": {
      "image/png": "[encoded data removed]",
      "text/plain": [
       "<Figure size 432x288 with 1 Axes>"
      ]
     },
     "metadata": {},
     "output_type": "display_data"
    }
   ],
   "source": [
    "movies_df['votes'].hist(bins=np.arange(0, 6000, 50))\n",
    "plt.xlabel('votes')\n",
    "plt.title('Phân phối của cột votes')\n",
    "plt.show()"
   ]
  },
  {
   "cell_type": "code",
   "execution_count": 32,
   "id": "31387847-c603-4952-b9e6-187b6157d19e",
   "metadata": {},
   "outputs": [
    {
     "data": {
      "text/html": [
       "<div>\n",
       "<style scoped>\n",
       "    .dataframe tbody tr th:only-of-type {\n",
       "        vertical-align: middle;\n",
       "    }\n",
       "\n",
       "    .dataframe tbody tr th {\n",
       "        vertical-align: top;\n",
       "    }\n",
       "\n",
       "    .dataframe thead th {\n",
       "        text-align: right;\n",
       "    }\n",
       "</style>\n",
       "<table border=\"1\" class=\"dataframe\">\n",
       "  <thead>\n",
       "    <tr style=\"text-align: right;\">\n",
       "      <th></th>\n",
       "      <th>weighted_average_vote</th>\n",
       "      <th>total_votes</th>\n",
       "      <th>mean_vote</th>\n",
       "      <th>median_vote</th>\n",
       "      <th>votes_10</th>\n",
       "      <th>votes_9</th>\n",
       "      <th>votes_8</th>\n",
       "      <th>votes_7</th>\n",
       "      <th>votes_6</th>\n",
       "      <th>votes_5</th>\n",
       "      <th>votes_4</th>\n",
       "      <th>votes_3</th>\n",
       "      <th>votes_2</th>\n",
       "      <th>votes_1</th>\n",
       "      <th>allgenders_18age_avg_vote</th>\n",
       "      <th>allgenders_18age_votes</th>\n",
       "      <th>allgenders_30age_avg_vote</th>\n",
       "      <th>allgenders_30age_votes</th>\n",
       "      <th>allgenders_45age_avg_vote</th>\n",
       "      <th>allgenders_45age_votes</th>\n",
       "      <th>males_allages_avg_vote</th>\n",
       "      <th>males_allages_votes</th>\n",
       "      <th>males_18age_avg_vote</th>\n",
       "      <th>males_18age_votes</th>\n",
       "      <th>males_30age_avg_vote</th>\n",
       "      <th>males_30age_votes</th>\n",
       "      <th>males_45age_avg_vote</th>\n",
       "      <th>males_45age_votes</th>\n",
       "      <th>females_allages_avg_vote</th>\n",
       "      <th>females_allages_votes</th>\n",
       "      <th>females_18age_avg_vote</th>\n",
       "      <th>females_18age_votes</th>\n",
       "      <th>females_30age_avg_vote</th>\n",
       "      <th>females_30age_votes</th>\n",
       "      <th>females_45age_avg_vote</th>\n",
       "      <th>females_45age_votes</th>\n",
       "      <th>us_voters_rating</th>\n",
       "      <th>us_voters_votes</th>\n",
       "      <th>non_us_voters_rating</th>\n",
       "      <th>non_us_voters_votes</th>\n",
       "    </tr>\n",
       "  </thead>\n",
       "  <tbody>\n",
       "    <tr>\n",
       "      <th>count</th>\n",
       "      <td>85855.000000</td>\n",
       "      <td>8.585500e+04</td>\n",
       "      <td>85855.000000</td>\n",
       "      <td>85855.000000</td>\n",
       "      <td>8.585500e+04</td>\n",
       "      <td>85855.000000</td>\n",
       "      <td>85855.000000</td>\n",
       "      <td>85855.000000</td>\n",
       "      <td>85855.000000</td>\n",
       "      <td>85855.000000</td>\n",
       "      <td>85855.000000</td>\n",
       "      <td>85855.000000</td>\n",
       "      <td>85855.000000</td>\n",
       "      <td>85855.000000</td>\n",
       "      <td>85149.000000</td>\n",
       "      <td>85149.000000</td>\n",
       "      <td>85845.000000</td>\n",
       "      <td>85845.000000</td>\n",
       "      <td>85775.000000</td>\n",
       "      <td>85775.000000</td>\n",
       "      <td>85854.000000</td>\n",
       "      <td>8.585400e+04</td>\n",
       "      <td>84390.000000</td>\n",
       "      <td>84390.000000</td>\n",
       "      <td>85843.000000</td>\n",
       "      <td>85843.000000</td>\n",
       "      <td>85754.000000</td>\n",
       "      <td>85754.000000</td>\n",
       "      <td>85774.000000</td>\n",
       "      <td>85774.000000</td>\n",
       "      <td>79334.000000</td>\n",
       "      <td>79334.000000</td>\n",
       "      <td>84911.000000</td>\n",
       "      <td>84911.000000</td>\n",
       "      <td>83057.000000</td>\n",
       "      <td>83057.000000</td>\n",
       "      <td>85646.000000</td>\n",
       "      <td>85646.000000</td>\n",
       "      <td>85854.000000</td>\n",
       "      <td>85854.000000</td>\n",
       "    </tr>\n",
       "    <tr>\n",
       "      <th>mean</th>\n",
       "      <td>5.898656</td>\n",
       "      <td>9.493490e+03</td>\n",
       "      <td>6.226342</td>\n",
       "      <td>6.267853</td>\n",
       "      <td>1.216158e+03</td>\n",
       "      <td>1196.774608</td>\n",
       "      <td>2040.896337</td>\n",
       "      <td>2105.668371</td>\n",
       "      <td>1353.192802</td>\n",
       "      <td>700.291177</td>\n",
       "      <td>340.179628</td>\n",
       "      <td>192.263409</td>\n",
       "      <td>126.663852</td>\n",
       "      <td>221.401479</td>\n",
       "      <td>6.011314</td>\n",
       "      <td>1778.370809</td>\n",
       "      <td>5.862917</td>\n",
       "      <td>4053.927124</td>\n",
       "      <td>5.678195</td>\n",
       "      <td>1260.706803</td>\n",
       "      <td>5.817172</td>\n",
       "      <td>6.029016e+03</td>\n",
       "      <td>5.946389</td>\n",
       "      <td>1343.226970</td>\n",
       "      <td>5.817767</td>\n",
       "      <td>3324.669338</td>\n",
       "      <td>5.630150</td>\n",
       "      <td>1051.196877</td>\n",
       "      <td>6.039408</td>\n",
       "      <td>1366.759461</td>\n",
       "      <td>6.321509</td>\n",
       "      <td>445.072340</td>\n",
       "      <td>6.071223</td>\n",
       "      <td>685.655451</td>\n",
       "      <td>6.022226</td>\n",
       "      <td>196.065341</td>\n",
       "      <td>5.925910</td>\n",
       "      <td>1647.822537</td>\n",
       "      <td>5.749638</td>\n",
       "      <td>4332.940865</td>\n",
       "    </tr>\n",
       "    <tr>\n",
       "      <th>std</th>\n",
       "      <td>1.234987</td>\n",
       "      <td>5.357436e+04</td>\n",
       "      <td>1.155280</td>\n",
       "      <td>1.481168</td>\n",
       "      <td>1.245582e+04</td>\n",
       "      <td>11735.363316</td>\n",
       "      <td>13801.122865</td>\n",
       "      <td>10699.375191</td>\n",
       "      <td>5976.801303</td>\n",
       "      <td>2931.301270</td>\n",
       "      <td>1415.815848</td>\n",
       "      <td>814.505546</td>\n",
       "      <td>551.690563</td>\n",
       "      <td>1172.132946</td>\n",
       "      <td>1.439783</td>\n",
       "      <td>11798.156167</td>\n",
       "      <td>1.279443</td>\n",
       "      <td>22087.819201</td>\n",
       "      <td>1.250633</td>\n",
       "      <td>5363.599259</td>\n",
       "      <td>1.248058</td>\n",
       "      <td>3.364652e+04</td>\n",
       "      <td>1.464165</td>\n",
       "      <td>9119.273345</td>\n",
       "      <td>1.289268</td>\n",
       "      <td>18348.499984</td>\n",
       "      <td>1.264053</td>\n",
       "      <td>4473.652738</td>\n",
       "      <td>1.346245</td>\n",
       "      <td>7672.675428</td>\n",
       "      <td>1.738922</td>\n",
       "      <td>2830.024831</td>\n",
       "      <td>1.454370</td>\n",
       "      <td>3732.376186</td>\n",
       "      <td>1.541895</td>\n",
       "      <td>842.979585</td>\n",
       "      <td>1.308087</td>\n",
       "      <td>8455.978158</td>\n",
       "      <td>1.285570</td>\n",
       "      <td>23243.807279</td>\n",
       "    </tr>\n",
       "    <tr>\n",
       "      <th>min</th>\n",
       "      <td>1.000000</td>\n",
       "      <td>9.900000e+01</td>\n",
       "      <td>1.000000</td>\n",
       "      <td>1.000000</td>\n",
       "      <td>0.000000e+00</td>\n",
       "      <td>0.000000</td>\n",
       "      <td>0.000000</td>\n",
       "      <td>0.000000</td>\n",
       "      <td>0.000000</td>\n",
       "      <td>0.000000</td>\n",
       "      <td>0.000000</td>\n",
       "      <td>0.000000</td>\n",
       "      <td>0.000000</td>\n",
       "      <td>0.000000</td>\n",
       "      <td>1.000000</td>\n",
       "      <td>1.000000</td>\n",
       "      <td>1.000000</td>\n",
       "      <td>1.000000</td>\n",
       "      <td>1.000000</td>\n",
       "      <td>1.000000</td>\n",
       "      <td>1.000000</td>\n",
       "      <td>1.000000e+00</td>\n",
       "      <td>1.000000</td>\n",
       "      <td>1.000000</td>\n",
       "      <td>1.000000</td>\n",
       "      <td>1.000000</td>\n",
       "      <td>1.000000</td>\n",
       "      <td>1.000000</td>\n",
       "      <td>1.000000</td>\n",
       "      <td>1.000000</td>\n",
       "      <td>1.000000</td>\n",
       "      <td>1.000000</td>\n",
       "      <td>1.000000</td>\n",
       "      <td>1.000000</td>\n",
       "      <td>1.000000</td>\n",
       "      <td>1.000000</td>\n",
       "      <td>1.000000</td>\n",
       "      <td>1.000000</td>\n",
       "      <td>1.000000</td>\n",
       "      <td>1.000000</td>\n",
       "    </tr>\n",
       "    <tr>\n",
       "      <th>25%</th>\n",
       "      <td>5.200000</td>\n",
       "      <td>2.050000e+02</td>\n",
       "      <td>5.600000</td>\n",
       "      <td>6.000000</td>\n",
       "      <td>2.100000e+01</td>\n",
       "      <td>8.000000</td>\n",
       "      <td>18.000000</td>\n",
       "      <td>28.000000</td>\n",
       "      <td>30.000000</td>\n",
       "      <td>22.000000</td>\n",
       "      <td>12.000000</td>\n",
       "      <td>7.000000</td>\n",
       "      <td>5.000000</td>\n",
       "      <td>10.000000</td>\n",
       "      <td>5.300000</td>\n",
       "      <td>13.000000</td>\n",
       "      <td>5.100000</td>\n",
       "      <td>69.000000</td>\n",
       "      <td>5.000000</td>\n",
       "      <td>53.000000</td>\n",
       "      <td>5.100000</td>\n",
       "      <td>1.320000e+02</td>\n",
       "      <td>5.100000</td>\n",
       "      <td>9.000000</td>\n",
       "      <td>5.100000</td>\n",
       "      <td>56.000000</td>\n",
       "      <td>4.900000</td>\n",
       "      <td>45.000000</td>\n",
       "      <td>5.300000</td>\n",
       "      <td>22.000000</td>\n",
       "      <td>5.500000</td>\n",
       "      <td>4.000000</td>\n",
       "      <td>5.300000</td>\n",
       "      <td>10.000000</td>\n",
       "      <td>5.200000</td>\n",
       "      <td>6.000000</td>\n",
       "      <td>5.200000</td>\n",
       "      <td>24.000000</td>\n",
       "      <td>5.000000</td>\n",
       "      <td>95.000000</td>\n",
       "    </tr>\n",
       "    <tr>\n",
       "      <th>50%</th>\n",
       "      <td>6.100000</td>\n",
       "      <td>4.840000e+02</td>\n",
       "      <td>6.400000</td>\n",
       "      <td>6.000000</td>\n",
       "      <td>5.100000e+01</td>\n",
       "      <td>24.000000</td>\n",
       "      <td>49.000000</td>\n",
       "      <td>77.000000</td>\n",
       "      <td>76.000000</td>\n",
       "      <td>53.000000</td>\n",
       "      <td>30.000000</td>\n",
       "      <td>19.000000</td>\n",
       "      <td>14.000000</td>\n",
       "      <td>25.000000</td>\n",
       "      <td>6.200000</td>\n",
       "      <td>43.000000</td>\n",
       "      <td>6.100000</td>\n",
       "      <td>172.000000</td>\n",
       "      <td>5.900000</td>\n",
       "      <td>123.000000</td>\n",
       "      <td>6.000000</td>\n",
       "      <td>3.080000e+02</td>\n",
       "      <td>6.200000</td>\n",
       "      <td>31.000000</td>\n",
       "      <td>6.000000</td>\n",
       "      <td>140.000000</td>\n",
       "      <td>5.900000</td>\n",
       "      <td>104.000000</td>\n",
       "      <td>6.300000</td>\n",
       "      <td>58.000000</td>\n",
       "      <td>6.500000</td>\n",
       "      <td>11.000000</td>\n",
       "      <td>6.300000</td>\n",
       "      <td>27.000000</td>\n",
       "      <td>6.200000</td>\n",
       "      <td>16.000000</td>\n",
       "      <td>6.100000</td>\n",
       "      <td>81.000000</td>\n",
       "      <td>6.000000</td>\n",
       "      <td>225.000000</td>\n",
       "    </tr>\n",
       "    <tr>\n",
       "      <th>75%</th>\n",
       "      <td>6.800000</td>\n",
       "      <td>1.766500e+03</td>\n",
       "      <td>7.000000</td>\n",
       "      <td>7.000000</td>\n",
       "      <td>1.920000e+02</td>\n",
       "      <td>111.500000</td>\n",
       "      <td>234.000000</td>\n",
       "      <td>342.000000</td>\n",
       "      <td>290.000000</td>\n",
       "      <td>178.000000</td>\n",
       "      <td>100.000000</td>\n",
       "      <td>63.000000</td>\n",
       "      <td>46.000000</td>\n",
       "      <td>82.000000</td>\n",
       "      <td>7.000000</td>\n",
       "      <td>196.000000</td>\n",
       "      <td>6.800000</td>\n",
       "      <td>679.000000</td>\n",
       "      <td>6.600000</td>\n",
       "      <td>425.000000</td>\n",
       "      <td>6.700000</td>\n",
       "      <td>1.141000e+03</td>\n",
       "      <td>7.000000</td>\n",
       "      <td>145.000000</td>\n",
       "      <td>6.700000</td>\n",
       "      <td>556.000000</td>\n",
       "      <td>6.500000</td>\n",
       "      <td>358.000000</td>\n",
       "      <td>7.000000</td>\n",
       "      <td>227.000000</td>\n",
       "      <td>7.400000</td>\n",
       "      <td>48.000000</td>\n",
       "      <td>7.000000</td>\n",
       "      <td>109.000000</td>\n",
       "      <td>7.000000</td>\n",
       "      <td>62.000000</td>\n",
       "      <td>6.800000</td>\n",
       "      <td>335.000000</td>\n",
       "      <td>6.700000</td>\n",
       "      <td>841.000000</td>\n",
       "    </tr>\n",
       "    <tr>\n",
       "      <th>max</th>\n",
       "      <td>9.900000</td>\n",
       "      <td>2.278845e+06</td>\n",
       "      <td>9.800000</td>\n",
       "      <td>10.000000</td>\n",
       "      <td>1.259076e+06</td>\n",
       "      <td>629582.000000</td>\n",
       "      <td>418070.000000</td>\n",
       "      <td>241832.000000</td>\n",
       "      <td>145740.000000</td>\n",
       "      <td>78385.000000</td>\n",
       "      <td>45219.000000</td>\n",
       "      <td>37644.000000</td>\n",
       "      <td>32101.000000</td>\n",
       "      <td>68500.000000</td>\n",
       "      <td>10.000000</td>\n",
       "      <td>522182.000000</td>\n",
       "      <td>10.000000</td>\n",
       "      <td>879620.000000</td>\n",
       "      <td>10.000000</td>\n",
       "      <td>204278.000000</td>\n",
       "      <td>10.000000</td>\n",
       "      <td>1.409165e+06</td>\n",
       "      <td>10.000000</td>\n",
       "      <td>422587.000000</td>\n",
       "      <td>10.000000</td>\n",
       "      <td>743676.000000</td>\n",
       "      <td>10.000000</td>\n",
       "      <td>165852.000000</td>\n",
       "      <td>10.000000</td>\n",
       "      <td>278964.000000</td>\n",
       "      <td>10.000000</td>\n",
       "      <td>107833.000000</td>\n",
       "      <td>10.000000</td>\n",
       "      <td>129249.000000</td>\n",
       "      <td>10.000000</td>\n",
       "      <td>34317.000000</td>\n",
       "      <td>10.000000</td>\n",
       "      <td>348363.000000</td>\n",
       "      <td>10.000000</td>\n",
       "      <td>887226.000000</td>\n",
       "    </tr>\n",
       "  </tbody>\n",
       "</table>\n",
       "</div>"
      ],
      "text/plain": [
       "       weighted_average_vote   total_votes     mean_vote   median_vote  \\\n",
       "count           85855.000000  8.585500e+04  85855.000000  85855.000000   \n",
       "mean                5.898656  9.493490e+03      6.226342      6.267853   \n",
       "std                 1.234987  5.357436e+04      1.155280      1.481168   \n",
       "min                 1.000000  9.900000e+01      1.000000      1.000000   \n",
       "25%                 5.200000  2.050000e+02      5.600000      6.000000   \n",
       "50%                 6.100000  4.840000e+02      6.400000      6.000000   \n",
       "75%                 6.800000  1.766500e+03      7.000000      7.000000   \n",
       "max                 9.900000  2.278845e+06      9.800000     10.000000   \n",
       "\n",
       "           votes_10        votes_9        votes_8        votes_7  \\\n",
       "count  8.585500e+04   85855.000000   85855.000000   85855.000000   \n",
       "mean   1.216158e+03    1196.774608    2040.896337    2105.668371   \n",
       "std    1.245582e+04   11735.363316   13801.122865   10699.375191   \n",
       "min    0.000000e+00       0.000000       0.000000       0.000000   \n",
       "25%    2.100000e+01       8.000000      18.000000      28.000000   \n",
       "50%    5.100000e+01      24.000000      49.000000      77.000000   \n",
       "75%    1.920000e+02     111.500000     234.000000     342.000000   \n",
       "max    1.259076e+06  629582.000000  418070.000000  241832.000000   \n",
       "\n",
       "             votes_6       votes_5       votes_4       votes_3       votes_2  \\\n",
       "count   85855.000000  85855.000000  85855.000000  85855.000000  85855.000000   \n",
       "mean     1353.192802    700.291177    340.179628    192.263409    126.663852   \n",
       "std      5976.801303   2931.301270   1415.815848    814.505546    551.690563   \n",
       "min         0.000000      0.000000      0.000000      0.000000      0.000000   \n",
       "25%        30.000000     22.000000     12.000000      7.000000      5.000000   \n",
       "50%        76.000000     53.000000     30.000000     19.000000     14.000000   \n",
       "75%       290.000000    178.000000    100.000000     63.000000     46.000000   \n",
       "max    145740.000000  78385.000000  45219.000000  37644.000000  32101.000000   \n",
       "\n",
       "            votes_1  allgenders_18age_avg_vote  allgenders_18age_votes  \\\n",
       "count  85855.000000               85149.000000            85149.000000   \n",
       "mean     221.401479                   6.011314             1778.370809   \n",
       "std     1172.132946                   1.439783            11798.156167   \n",
       "min        0.000000                   1.000000                1.000000   \n",
       "25%       10.000000                   5.300000               13.000000   \n",
       "50%       25.000000                   6.200000               43.000000   \n",
       "75%       82.000000                   7.000000              196.000000   \n",
       "max    68500.000000                  10.000000           522182.000000   \n",
       "\n",
       "       allgenders_30age_avg_vote  allgenders_30age_votes  \\\n",
       "count               85845.000000            85845.000000   \n",
       "mean                    5.862917             4053.927124   \n",
       "std                     1.279443            22087.819201   \n",
       "min                     1.000000                1.000000   \n",
       "25%                     5.100000               69.000000   \n",
       "50%                     6.100000              172.000000   \n",
       "75%                     6.800000              679.000000   \n",
       "max                    10.000000           879620.000000   \n",
       "\n",
       "       allgenders_45age_avg_vote  allgenders_45age_votes  \\\n",
       "count               85775.000000            85775.000000   \n",
       "mean                    5.678195             1260.706803   \n",
       "std                     1.250633             5363.599259   \n",
       "min                     1.000000                1.000000   \n",
       "25%                     5.000000               53.000000   \n",
       "50%                     5.900000              123.000000   \n",
       "75%                     6.600000              425.000000   \n",
       "max                    10.000000           204278.000000   \n",
       "\n",
       "       males_allages_avg_vote  males_allages_votes  males_18age_avg_vote  \\\n",
       "count            85854.000000         8.585400e+04          84390.000000   \n",
       "mean                 5.817172         6.029016e+03              5.946389   \n",
       "std                  1.248058         3.364652e+04              1.464165   \n",
       "min                  1.000000         1.000000e+00              1.000000   \n",
       "25%                  5.100000         1.320000e+02              5.100000   \n",
       "50%                  6.000000         3.080000e+02              6.200000   \n",
       "75%                  6.700000         1.141000e+03              7.000000   \n",
       "max                 10.000000         1.409165e+06             10.000000   \n",
       "\n",
       "       males_18age_votes  males_30age_avg_vote  males_30age_votes  \\\n",
       "count       84390.000000          85843.000000       85843.000000   \n",
       "mean         1343.226970              5.817767        3324.669338   \n",
       "std          9119.273345              1.289268       18348.499984   \n",
       "min             1.000000              1.000000           1.000000   \n",
       "25%             9.000000              5.100000          56.000000   \n",
       "50%            31.000000              6.000000         140.000000   \n",
       "75%           145.000000              6.700000         556.000000   \n",
       "max        422587.000000             10.000000      743676.000000   \n",
       "\n",
       "       males_45age_avg_vote  males_45age_votes  females_allages_avg_vote  \\\n",
       "count          85754.000000       85754.000000              85774.000000   \n",
       "mean               5.630150        1051.196877                  6.039408   \n",
       "std                1.264053        4473.652738                  1.346245   \n",
       "min                1.000000           1.000000                  1.000000   \n",
       "25%                4.900000          45.000000                  5.300000   \n",
       "50%                5.900000         104.000000                  6.300000   \n",
       "75%                6.500000         358.000000                  7.000000   \n",
       "max               10.000000      165852.000000                 10.000000   \n",
       "\n",
       "       females_allages_votes  females_18age_avg_vote  females_18age_votes  \\\n",
       "count           85774.000000            79334.000000         79334.000000   \n",
       "mean             1366.759461                6.321509           445.072340   \n",
       "std              7672.675428                1.738922          2830.024831   \n",
       "min                 1.000000                1.000000             1.000000   \n",
       "25%                22.000000                5.500000             4.000000   \n",
       "50%                58.000000                6.500000            11.000000   \n",
       "75%               227.000000                7.400000            48.000000   \n",
       "max            278964.000000               10.000000        107833.000000   \n",
       "\n",
       "       females_30age_avg_vote  females_30age_votes  females_45age_avg_vote  \\\n",
       "count            84911.000000         84911.000000            83057.000000   \n",
       "mean                 6.071223           685.655451                6.022226   \n",
       "std                  1.454370          3732.376186                1.541895   \n",
       "min                  1.000000             1.000000                1.000000   \n",
       "25%                  5.300000            10.000000                5.200000   \n",
       "50%                  6.300000            27.000000                6.200000   \n",
       "75%                  7.000000           109.000000                7.000000   \n",
       "max                 10.000000        129249.000000               10.000000   \n",
       "\n",
       "       females_45age_votes  us_voters_rating  us_voters_votes  \\\n",
       "count         83057.000000      85646.000000     85646.000000   \n",
       "mean            196.065341          5.925910      1647.822537   \n",
       "std             842.979585          1.308087      8455.978158   \n",
       "min               1.000000          1.000000         1.000000   \n",
       "25%               6.000000          5.200000        24.000000   \n",
       "50%              16.000000          6.100000        81.000000   \n",
       "75%              62.000000          6.800000       335.000000   \n",
       "max           34317.000000         10.000000    348363.000000   \n",
       "\n",
       "       non_us_voters_rating  non_us_voters_votes  \n",
       "count          85854.000000         85854.000000  \n",
       "mean               5.749638          4332.940865  \n",
       "std                1.285570         23243.807279  \n",
       "min                1.000000             1.000000  \n",
       "25%                5.000000            95.000000  \n",
       "50%                6.000000           225.000000  \n",
       "75%                6.700000           841.000000  \n",
       "max               10.000000        887226.000000  "
      ]
     },
     "execution_count": 32,
     "metadata": {},
     "output_type": "execute_result"
    }
   ],
   "source": [
    "ratings_df[ratings_df.columns[1:]].describe()"
   ]
  },
  {
   "cell_type": "markdown",
   "id": "bbcea7e3-dab2-4cec-9608-ab6964bf88bd",
   "metadata": {},
   "source": [
    "### ratings_df"
   ]
  },
  {
   "cell_type": "markdown",
   "id": "d21fb12b-23a6-4b00-932b-285f2cb119b5",
   "metadata": {},
   "source": [
    "#### Số-lượng/tỉ-lệ các giá trị thiếu? Min? max?"
   ]
  },
  {
   "cell_type": "code",
   "execution_count": 14,
   "id": "9d4ad963-f956-4709-bd37-02d7fac5a73d",
   "metadata": {},
   "outputs": [
    {
     "data": {
      "text/html": [
       "<div>\n",
       "<style scoped>\n",
       "    .dataframe tbody tr th:only-of-type {\n",
       "        vertical-align: middle;\n",
       "    }\n",
       "\n",
       "    .dataframe tbody tr th {\n",
       "        vertical-align: top;\n",
       "    }\n",
       "\n",
       "    .dataframe thead th {\n",
       "        text-align: right;\n",
       "    }\n",
       "</style>\n",
       "<table border=\"1\" class=\"dataframe\">\n",
       "  <thead>\n",
       "    <tr style=\"text-align: right;\">\n",
       "      <th></th>\n",
       "      <th>imdb_title_id</th>\n",
       "      <th>weighted_average_vote</th>\n",
       "      <th>total_votes</th>\n",
       "      <th>mean_vote</th>\n",
       "      <th>median_vote</th>\n",
       "      <th>votes_10</th>\n",
       "      <th>votes_9</th>\n",
       "      <th>votes_8</th>\n",
       "      <th>votes_7</th>\n",
       "      <th>votes_6</th>\n",
       "      <th>votes_5</th>\n",
       "      <th>votes_4</th>\n",
       "      <th>votes_3</th>\n",
       "      <th>votes_2</th>\n",
       "      <th>votes_1</th>\n",
       "      <th>allgenders_0age_avg_vote</th>\n",
       "      <th>allgenders_0age_votes</th>\n",
       "      <th>allgenders_18age_avg_vote</th>\n",
       "      <th>allgenders_18age_votes</th>\n",
       "      <th>allgenders_30age_avg_vote</th>\n",
       "      <th>allgenders_30age_votes</th>\n",
       "      <th>allgenders_45age_avg_vote</th>\n",
       "      <th>allgenders_45age_votes</th>\n",
       "      <th>males_allages_avg_vote</th>\n",
       "      <th>males_allages_votes</th>\n",
       "      <th>males_0age_avg_vote</th>\n",
       "      <th>males_0age_votes</th>\n",
       "      <th>males_18age_avg_vote</th>\n",
       "      <th>males_18age_votes</th>\n",
       "      <th>males_30age_avg_vote</th>\n",
       "      <th>males_30age_votes</th>\n",
       "      <th>males_45age_avg_vote</th>\n",
       "      <th>males_45age_votes</th>\n",
       "      <th>females_allages_avg_vote</th>\n",
       "      <th>females_allages_votes</th>\n",
       "      <th>females_0age_avg_vote</th>\n",
       "      <th>females_0age_votes</th>\n",
       "      <th>females_18age_avg_vote</th>\n",
       "      <th>females_18age_votes</th>\n",
       "      <th>females_30age_avg_vote</th>\n",
       "      <th>females_30age_votes</th>\n",
       "      <th>females_45age_avg_vote</th>\n",
       "      <th>females_45age_votes</th>\n",
       "      <th>top1000_voters_rating</th>\n",
       "      <th>top1000_voters_votes</th>\n",
       "      <th>us_voters_rating</th>\n",
       "      <th>us_voters_votes</th>\n",
       "      <th>non_us_voters_rating</th>\n",
       "      <th>non_us_voters_votes</th>\n",
       "    </tr>\n",
       "  </thead>\n",
       "  <tbody>\n",
       "    <tr>\n",
       "      <th>missing_ratio</th>\n",
       "      <td>0.0</td>\n",
       "      <td>0.0</td>\n",
       "      <td>0.0</td>\n",
       "      <td>0.0</td>\n",
       "      <td>0.0</td>\n",
       "      <td>0.0</td>\n",
       "      <td>0.0</td>\n",
       "      <td>0.0</td>\n",
       "      <td>0.0</td>\n",
       "      <td>0.0</td>\n",
       "      <td>0.0</td>\n",
       "      <td>0.0</td>\n",
       "      <td>0.0</td>\n",
       "      <td>0.0</td>\n",
       "      <td>0.0</td>\n",
       "      <td>61.145666</td>\n",
       "      <td>61.145666</td>\n",
       "      <td>0.822326</td>\n",
       "      <td>0.822326</td>\n",
       "      <td>0.011648</td>\n",
       "      <td>0.011648</td>\n",
       "      <td>0.093181</td>\n",
       "      <td>0.093181</td>\n",
       "      <td>0.001165</td>\n",
       "      <td>1.164768e-03</td>\n",
       "      <td>68.073707</td>\n",
       "      <td>68.073707</td>\n",
       "      <td>1.706385</td>\n",
       "      <td>1.706385</td>\n",
       "      <td>0.013977</td>\n",
       "      <td>0.013977</td>\n",
       "      <td>0.117642</td>\n",
       "      <td>0.117642</td>\n",
       "      <td>0.094346</td>\n",
       "      <td>0.094346</td>\n",
       "      <td>74.239989</td>\n",
       "      <td>74.239989</td>\n",
       "      <td>7.595453</td>\n",
       "      <td>7.595453</td>\n",
       "      <td>1.099541</td>\n",
       "      <td>1.099541</td>\n",
       "      <td>3.259021</td>\n",
       "      <td>3.259021</td>\n",
       "      <td>0.790878</td>\n",
       "      <td>0.790878</td>\n",
       "      <td>0.243437</td>\n",
       "      <td>0.243437</td>\n",
       "      <td>0.001165</td>\n",
       "      <td>0.001165</td>\n",
       "    </tr>\n",
       "    <tr>\n",
       "      <th>min</th>\n",
       "      <td>tt0000574</td>\n",
       "      <td>1.0</td>\n",
       "      <td>99.0</td>\n",
       "      <td>1.0</td>\n",
       "      <td>1.0</td>\n",
       "      <td>0.0</td>\n",
       "      <td>0.0</td>\n",
       "      <td>0.0</td>\n",
       "      <td>0.0</td>\n",
       "      <td>0.0</td>\n",
       "      <td>0.0</td>\n",
       "      <td>0.0</td>\n",
       "      <td>0.0</td>\n",
       "      <td>0.0</td>\n",
       "      <td>0.0</td>\n",
       "      <td>1.000000</td>\n",
       "      <td>1.000000</td>\n",
       "      <td>1.000000</td>\n",
       "      <td>1.000000</td>\n",
       "      <td>1.000000</td>\n",
       "      <td>1.000000</td>\n",
       "      <td>1.000000</td>\n",
       "      <td>1.000000</td>\n",
       "      <td>1.000000</td>\n",
       "      <td>1.000000e+00</td>\n",
       "      <td>1.000000</td>\n",
       "      <td>1.000000</td>\n",
       "      <td>1.000000</td>\n",
       "      <td>1.000000</td>\n",
       "      <td>1.000000</td>\n",
       "      <td>1.000000</td>\n",
       "      <td>1.000000</td>\n",
       "      <td>1.000000</td>\n",
       "      <td>1.000000</td>\n",
       "      <td>1.000000</td>\n",
       "      <td>1.000000</td>\n",
       "      <td>1.000000</td>\n",
       "      <td>1.000000</td>\n",
       "      <td>1.000000</td>\n",
       "      <td>1.000000</td>\n",
       "      <td>1.000000</td>\n",
       "      <td>1.000000</td>\n",
       "      <td>1.000000</td>\n",
       "      <td>1.000000</td>\n",
       "      <td>1.000000</td>\n",
       "      <td>1.000000</td>\n",
       "      <td>1.000000</td>\n",
       "      <td>1.000000</td>\n",
       "      <td>1.000000</td>\n",
       "    </tr>\n",
       "    <tr>\n",
       "      <th>max</th>\n",
       "      <td>tt9914942</td>\n",
       "      <td>9.9</td>\n",
       "      <td>2278845.0</td>\n",
       "      <td>9.8</td>\n",
       "      <td>10.0</td>\n",
       "      <td>1259076.0</td>\n",
       "      <td>629582.0</td>\n",
       "      <td>418070.0</td>\n",
       "      <td>241832.0</td>\n",
       "      <td>145740.0</td>\n",
       "      <td>78385.0</td>\n",
       "      <td>45219.0</td>\n",
       "      <td>37644.0</td>\n",
       "      <td>32101.0</td>\n",
       "      <td>68500.0</td>\n",
       "      <td>10.000000</td>\n",
       "      <td>2761.000000</td>\n",
       "      <td>10.000000</td>\n",
       "      <td>522182.000000</td>\n",
       "      <td>10.000000</td>\n",
       "      <td>879620.000000</td>\n",
       "      <td>10.000000</td>\n",
       "      <td>204278.000000</td>\n",
       "      <td>10.000000</td>\n",
       "      <td>1.409165e+06</td>\n",
       "      <td>10.000000</td>\n",
       "      <td>1872.000000</td>\n",
       "      <td>10.000000</td>\n",
       "      <td>422587.000000</td>\n",
       "      <td>10.000000</td>\n",
       "      <td>743676.000000</td>\n",
       "      <td>10.000000</td>\n",
       "      <td>165852.000000</td>\n",
       "      <td>10.000000</td>\n",
       "      <td>278964.000000</td>\n",
       "      <td>10.000000</td>\n",
       "      <td>630.000000</td>\n",
       "      <td>10.000000</td>\n",
       "      <td>107833.000000</td>\n",
       "      <td>10.000000</td>\n",
       "      <td>129249.000000</td>\n",
       "      <td>10.000000</td>\n",
       "      <td>34317.000000</td>\n",
       "      <td>10.000000</td>\n",
       "      <td>928.000000</td>\n",
       "      <td>10.000000</td>\n",
       "      <td>348363.000000</td>\n",
       "      <td>10.000000</td>\n",
       "      <td>887226.000000</td>\n",
       "    </tr>\n",
       "  </tbody>\n",
       "</table>\n",
       "</div>"
      ],
      "text/plain": [
       "              imdb_title_id  weighted_average_vote  total_votes  mean_vote  \\\n",
       "missing_ratio           0.0                    0.0          0.0        0.0   \n",
       "min               tt0000574                    1.0         99.0        1.0   \n",
       "max               tt9914942                    9.9    2278845.0        9.8   \n",
       "\n",
       "               median_vote   votes_10   votes_9   votes_8   votes_7   votes_6  \\\n",
       "missing_ratio          0.0        0.0       0.0       0.0       0.0       0.0   \n",
       "min                    1.0        0.0       0.0       0.0       0.0       0.0   \n",
       "max                   10.0  1259076.0  629582.0  418070.0  241832.0  145740.0   \n",
       "\n",
       "               votes_5  votes_4  votes_3  votes_2  votes_1  \\\n",
       "missing_ratio      0.0      0.0      0.0      0.0      0.0   \n",
       "min                0.0      0.0      0.0      0.0      0.0   \n",
       "max            78385.0  45219.0  37644.0  32101.0  68500.0   \n",
       "\n",
       "               allgenders_0age_avg_vote  allgenders_0age_votes  \\\n",
       "missing_ratio                 61.145666              61.145666   \n",
       "min                            1.000000               1.000000   \n",
       "max                           10.000000            2761.000000   \n",
       "\n",
       "               allgenders_18age_avg_vote  allgenders_18age_votes  \\\n",
       "missing_ratio                   0.822326                0.822326   \n",
       "min                             1.000000                1.000000   \n",
       "max                            10.000000           522182.000000   \n",
       "\n",
       "               allgenders_30age_avg_vote  allgenders_30age_votes  \\\n",
       "missing_ratio                   0.011648                0.011648   \n",
       "min                             1.000000                1.000000   \n",
       "max                            10.000000           879620.000000   \n",
       "\n",
       "               allgenders_45age_avg_vote  allgenders_45age_votes  \\\n",
       "missing_ratio                   0.093181                0.093181   \n",
       "min                             1.000000                1.000000   \n",
       "max                            10.000000           204278.000000   \n",
       "\n",
       "               males_allages_avg_vote  males_allages_votes  \\\n",
       "missing_ratio                0.001165         1.164768e-03   \n",
       "min                          1.000000         1.000000e+00   \n",
       "max                         10.000000         1.409165e+06   \n",
       "\n",
       "               males_0age_avg_vote  males_0age_votes  males_18age_avg_vote  \\\n",
       "missing_ratio            68.073707         68.073707              1.706385   \n",
       "min                       1.000000          1.000000              1.000000   \n",
       "max                      10.000000       1872.000000             10.000000   \n",
       "\n",
       "               males_18age_votes  males_30age_avg_vote  males_30age_votes  \\\n",
       "missing_ratio           1.706385              0.013977           0.013977   \n",
       "min                     1.000000              1.000000           1.000000   \n",
       "max                422587.000000             10.000000      743676.000000   \n",
       "\n",
       "               males_45age_avg_vote  males_45age_votes  \\\n",
       "missing_ratio              0.117642           0.117642   \n",
       "min                        1.000000           1.000000   \n",
       "max                       10.000000      165852.000000   \n",
       "\n",
       "               females_allages_avg_vote  females_allages_votes  \\\n",
       "missing_ratio                  0.094346               0.094346   \n",
       "min                            1.000000               1.000000   \n",
       "max                           10.000000          278964.000000   \n",
       "\n",
       "               females_0age_avg_vote  females_0age_votes  \\\n",
       "missing_ratio              74.239989           74.239989   \n",
       "min                         1.000000            1.000000   \n",
       "max                        10.000000          630.000000   \n",
       "\n",
       "               females_18age_avg_vote  females_18age_votes  \\\n",
       "missing_ratio                7.595453             7.595453   \n",
       "min                          1.000000             1.000000   \n",
       "max                         10.000000        107833.000000   \n",
       "\n",
       "               females_30age_avg_vote  females_30age_votes  \\\n",
       "missing_ratio                1.099541             1.099541   \n",
       "min                          1.000000             1.000000   \n",
       "max                         10.000000        129249.000000   \n",
       "\n",
       "               females_45age_avg_vote  females_45age_votes  \\\n",
       "missing_ratio                3.259021             3.259021   \n",
       "min                          1.000000             1.000000   \n",
       "max                         10.000000         34317.000000   \n",
       "\n",
       "               top1000_voters_rating  top1000_voters_votes  us_voters_rating  \\\n",
       "missing_ratio               0.790878              0.790878          0.243437   \n",
       "min                         1.000000              1.000000          1.000000   \n",
       "max                        10.000000            928.000000         10.000000   \n",
       "\n",
       "               us_voters_votes  non_us_voters_rating  non_us_voters_votes  \n",
       "missing_ratio         0.243437              0.001165             0.001165  \n",
       "min                   1.000000              1.000000             1.000000  \n",
       "max              348363.000000             10.000000        887226.000000  "
      ]
     },
     "execution_count": 14,
     "metadata": {},
     "output_type": "execute_result"
    }
   ],
   "source": [
    "ratings_df[1:].agg([missing_ratio, min, max])"
   ]
  },
  {
   "cell_type": "code",
   "execution_count": 54,
   "id": "5e26cb76-6330-4136-b4ca-5909d9e2c9a7",
   "metadata": {},
   "outputs": [
    {
     "data": {
      "image/png": "[encoded data removed]",
      "text/plain": [
       "<Figure size 432x288 with 3 Axes>"
      ]
     },
     "metadata": {
      "needs_background": "light"
     },
     "output_type": "display_data"
    }
   ],
   "source": [
    "list_col = ['weighted_average_vote', 'mean_vote', 'median_vote']\n",
    "ratings_df[list_col].plot(kind='hist', subplots=True);"
   ]
  },
  {
   "cell_type": "code",
   "execution_count": 55,
   "id": "15a2cf41-8f53-408a-9a69-87dadc8b43f6",
   "metadata": {},
   "outputs": [
    {
     "data": {
      "image/png": "[encoded data removed]",
      "text/plain": [
       "<Figure size 432x288 with 3 Axes>"
      ]
     },
     "metadata": {
      "needs_background": "light"
     },
     "output_type": "display_data"
    }
   ],
   "source": [
    "list_col = ['allgenders_18age_avg_vote', 'allgenders_30age_avg_vote', 'allgenders_45age_avg_vote']\n",
    "ratings_df[list_col].plot(kind='hist', subplots=True);"
   ]
  },
  {
   "cell_type": "code",
   "execution_count": 53,
   "id": "75f806e4-c9bd-4e23-a0f8-8cfe7e91b816",
   "metadata": {},
   "outputs": [
    {
     "data": {
      "image/png": "[encoded data removed]",
      "text/plain": [
       "<Figure size 432x288 with 4 Axes>"
      ]
     },
     "metadata": {
      "needs_background": "light"
     },
     "output_type": "display_data"
    }
   ],
   "source": [
    "list_col = ['males_allages_avg_vote', 'males_18age_avg_vote', 'males_30age_avg_vote', 'males_45age_avg_vote']\n",
    "ratings_df[list_col].plot(kind='hist', subplots=True, layout=(2,2));"
   ]
  },
  {
   "cell_type": "code",
   "execution_count": 56,
   "id": "77b38737-52da-4c05-bc0d-6f17ca4af1ee",
   "metadata": {},
   "outputs": [
    {
     "data": {
      "image/png": "[encoded data removed]",
      "text/plain": [
       "<Figure size 432x288 with 4 Axes>"
      ]
     },
     "metadata": {
      "needs_background": "light"
     },
     "output_type": "display_data"
    }
   ],
   "source": [
    "list_col = ['females_allages_avg_vote', 'females_18age_avg_vote', 'females_30age_avg_vote', 'females_45age_avg_vote']\n",
    "ratings_df[list_col].plot(kind='hist', subplots=True, layout=(2,2));"
   ]
  },
  {
   "cell_type": "code",
   "execution_count": 58,
   "id": "a15c7e06-9973-4384-8942-a54262ef93c6",
   "metadata": {},
   "outputs": [
    {
     "data": {
      "image/png": "[encoded data removed]",
      "text/plain": [
       "<Figure size 432x288 with 2 Axes>"
      ]
     },
     "metadata": {
      "needs_background": "light"
     },
     "output_type": "display_data"
    }
   ],
   "source": [
    "list_col = ['us_voters_rating', 'non_us_voters_rating']\n",
    "ratings_df[list_col].plot(kind='hist', subplots=True);"
   ]
  },
  {
   "cell_type": "markdown",
   "id": "5e026d88-4770-4cfb-9119-f6b93e1a6c2e",
   "metadata": {},
   "source": [
    "## Với mỗi cột có kiểu dữ liệu dạng phân loại (categorical), các giá trị được phân bố như thế nào?\n",
    "### ratings_df\n",
    "- Cột imdb_title_id dạng phân loại nhưng không mang phân bố"
   ]
  },
  {
   "cell_type": "code",
   "execution_count": 34,
   "id": "54bf1909-7d9b-4748-8312-b7d9ed54e099",
   "metadata": {},
   "outputs": [
    {
     "data": {
      "text/plain": [
       "count         85855\n",
       "unique        85855\n",
       "top       tt3438252\n",
       "freq              1\n",
       "Name: imdb_title_id, dtype: object"
      ]
     },
     "execution_count": 34,
     "metadata": {},
     "output_type": "execute_result"
    }
   ],
   "source": [
    "ratings_df['imdb_title_id'].describe()"
   ]
  },
  {
   "cell_type": "markdown",
   "id": "e3aa2960-63d9-4183-84b8-e245e89bec6c",
   "metadata": {},
   "source": [
    "### movies_df\n",
    "- Đầu tiên xem xét các giá trị sau của các cột categorical: tỷ lệ giá trị thiếu, số lượng các giá trị phân biệt (`num_diff_vals`), các gái trị phân biệt (`diff_vals`)"
   ]
  },
  {
   "cell_type": "code",
   "execution_count": 24,
   "id": "14a21039-6309-411f-8245-559aac97e49f",
   "metadata": {
    "scrolled": true
   },
   "outputs": [
    {
     "data": {
      "text/html": [
       "<div>\n",
       "<style scoped>\n",
       "    .dataframe tbody tr th:only-of-type {\n",
       "        vertical-align: middle;\n",
       "    }\n",
       "\n",
       "    .dataframe tbody tr th {\n",
       "        vertical-align: top;\n",
       "    }\n",
       "\n",
       "    .dataframe thead th {\n",
       "        text-align: right;\n",
       "    }\n",
       "</style>\n",
       "<table border=\"1\" class=\"dataframe\">\n",
       "  <thead>\n",
       "    <tr style=\"text-align: right;\">\n",
       "      <th></th>\n",
       "      <th>original_title</th>\n",
       "      <th>actors</th>\n",
       "      <th>genre</th>\n",
       "      <th>production_company</th>\n",
       "      <th>country</th>\n",
       "      <th>language</th>\n",
       "      <th>imdb_title_id</th>\n",
       "      <th>director</th>\n",
       "      <th>writer</th>\n",
       "      <th>description</th>\n",
       "      <th>title</th>\n",
       "    </tr>\n",
       "  </thead>\n",
       "  <tbody>\n",
       "    <tr>\n",
       "      <th>missing_ratio</th>\n",
       "      <td>0.0</td>\n",
       "      <td>0.072578</td>\n",
       "      <td>0.0</td>\n",
       "      <td>4.542882</td>\n",
       "      <td>0.071348</td>\n",
       "      <td>0.943512</td>\n",
       "      <td>0.0</td>\n",
       "      <td>0.098411</td>\n",
       "      <td>1.631157</td>\n",
       "      <td>2.30527</td>\n",
       "      <td>0.0</td>\n",
       "    </tr>\n",
       "    <tr>\n",
       "      <th>num_diff_vals</th>\n",
       "      <td>76680</td>\n",
       "      <td>81179</td>\n",
       "      <td>1234</td>\n",
       "      <td>30598</td>\n",
       "      <td>4826</td>\n",
       "      <td>4299</td>\n",
       "      <td>81292</td>\n",
       "      <td>33272</td>\n",
       "      <td>63954</td>\n",
       "      <td>79296</td>\n",
       "      <td>77845</td>\n",
       "    </tr>\n",
       "    <tr>\n",
       "      <th>diff_vals</th>\n",
       "      <td>[Miss Jerry, The Story of the Kelly Gang, Den ...</td>\n",
       "      <td>[Blanche Bayliss, William Courtenay, Chauncey ...</td>\n",
       "      <td>[Romance, Biography, Crime, Drama, Drama, Dram...</td>\n",
       "      <td>[Alexander Black Photoplays, J. and N. Tait, F...</td>\n",
       "      <td>[USA, Australia, Germany, Denmark, Italy, Germ...</td>\n",
       "      <td>[None, nan, English, Italian, German, Danish, ...</td>\n",
       "      <td>[tt0000009, tt0000574, tt0001892, tt0002101, t...</td>\n",
       "      <td>[Alexander Black, Charles Tait, Urban Gad, Cha...</td>\n",
       "      <td>[Alexander Black, Charles Tait, Urban Gad, Geb...</td>\n",
       "      <td>[The adventures of a female reporter in the 18...</td>\n",
       "      <td>[Miss Jerry, The Story of the Kelly Gang, Den ...</td>\n",
       "    </tr>\n",
       "  </tbody>\n",
       "</table>\n",
       "</div>"
      ],
      "text/plain": [
       "                                                  original_title  \\\n",
       "missing_ratio                                                0.0   \n",
       "num_diff_vals                                              76680   \n",
       "diff_vals      [Miss Jerry, The Story of the Kelly Gang, Den ...   \n",
       "\n",
       "                                                          actors  \\\n",
       "missing_ratio                                           0.072578   \n",
       "num_diff_vals                                              81179   \n",
       "diff_vals      [Blanche Bayliss, William Courtenay, Chauncey ...   \n",
       "\n",
       "                                                           genre  \\\n",
       "missing_ratio                                                0.0   \n",
       "num_diff_vals                                               1234   \n",
       "diff_vals      [Romance, Biography, Crime, Drama, Drama, Dram...   \n",
       "\n",
       "                                              production_company  \\\n",
       "missing_ratio                                           4.542882   \n",
       "num_diff_vals                                              30598   \n",
       "diff_vals      [Alexander Black Photoplays, J. and N. Tait, F...   \n",
       "\n",
       "                                                         country  \\\n",
       "missing_ratio                                           0.071348   \n",
       "num_diff_vals                                               4826   \n",
       "diff_vals      [USA, Australia, Germany, Denmark, Italy, Germ...   \n",
       "\n",
       "                                                        language  \\\n",
       "missing_ratio                                           0.943512   \n",
       "num_diff_vals                                               4299   \n",
       "diff_vals      [None, nan, English, Italian, German, Danish, ...   \n",
       "\n",
       "                                                   imdb_title_id  \\\n",
       "missing_ratio                                                0.0   \n",
       "num_diff_vals                                              81292   \n",
       "diff_vals      [tt0000009, tt0000574, tt0001892, tt0002101, t...   \n",
       "\n",
       "                                                        director  \\\n",
       "missing_ratio                                           0.098411   \n",
       "num_diff_vals                                              33272   \n",
       "diff_vals      [Alexander Black, Charles Tait, Urban Gad, Cha...   \n",
       "\n",
       "                                                          writer  \\\n",
       "missing_ratio                                           1.631157   \n",
       "num_diff_vals                                              63954   \n",
       "diff_vals      [Alexander Black, Charles Tait, Urban Gad, Geb...   \n",
       "\n",
       "                                                     description  \\\n",
       "missing_ratio                                            2.30527   \n",
       "num_diff_vals                                              79296   \n",
       "diff_vals      [The adventures of a female reporter in the 18...   \n",
       "\n",
       "                                                           title  \n",
       "missing_ratio                                                0.0  \n",
       "num_diff_vals                                              77845  \n",
       "diff_vals      [Miss Jerry, The Story of the Kelly Gang, Den ...  "
      ]
     },
     "execution_count": 24,
     "metadata": {},
     "output_type": "execute_result"
    }
   ],
   "source": [
    "cate_cols = list(set(movies_df.columns) - set(num_cols))\n",
    "def num_diff_vals(s):\n",
    "    return s.nunique()\n",
    "def diff_vals(s):\n",
    "    return s.unique()\n",
    "\n",
    "movies_df[cate_cols].agg([missing_ratio, num_diff_vals, diff_vals])"
   ]
  },
  {
   "cell_type": "markdown",
   "id": "bed046e3-b76c-48c1-aca4-953b7980d941",
   "metadata": {},
   "source": [
    "*Cột imdb_title_id có số lượng giá trị khác nhau đúng với số dòng dữ liệu: 85854 dòng*"
   ]
  },
  {
   "cell_type": "markdown",
   "id": "bfa423fa-b010-4a54-bfc4-597668551be3",
   "metadata": {},
   "source": [
    "- Tiếp theo tìm các giá trị xuất hiện nhiều nhất của các cột ***genre, production_company, country, language, actors, director, writer***.\n",
    "- Do mỗi mẫu của các cột này có thể có nhiều giá trị nên cần phải xử lý tách các giá trị này ra trước rồi mới tính tần xuất của từng giá trị. Hàm `count_list_cols` sẽ thực hiện việc tách và sau đó tính tần xuất bằng phương thức `value_counts`"
   ]
  },
  {
   "cell_type": "code",
   "execution_count": 25,
   "id": "b04e9bb8-7259-4ec4-a8eb-c58a13f85f3d",
   "metadata": {},
   "outputs": [
    {
     "data": {
      "text/html": [
       "<div>\n",
       "<style scoped>\n",
       "    .dataframe tbody tr th:only-of-type {\n",
       "        vertical-align: middle;\n",
       "    }\n",
       "\n",
       "    .dataframe tbody tr th {\n",
       "        vertical-align: top;\n",
       "    }\n",
       "\n",
       "    .dataframe thead th {\n",
       "        text-align: right;\n",
       "    }\n",
       "</style>\n",
       "<table border=\"1\" class=\"dataframe\">\n",
       "  <thead>\n",
       "    <tr style=\"text-align: right;\">\n",
       "      <th></th>\n",
       "      <th>genre</th>\n",
       "      <th>production_company</th>\n",
       "      <th>country</th>\n",
       "      <th>language</th>\n",
       "      <th>actors</th>\n",
       "      <th>director</th>\n",
       "      <th>writer</th>\n",
       "    </tr>\n",
       "  </thead>\n",
       "  <tbody>\n",
       "    <tr>\n",
       "      <th>0</th>\n",
       "      <td>Drama</td>\n",
       "      <td>Metro-Goldwyn-Mayer(MGM)</td>\n",
       "      <td>USA</td>\n",
       "      <td>English</td>\n",
       "      <td>Brahmanandam</td>\n",
       "      <td>MichaelCurtiz</td>\n",
       "      <td>JingWong</td>\n",
       "    </tr>\n",
       "    <tr>\n",
       "      <th>1</th>\n",
       "      <td>Comedy</td>\n",
       "      <td>WarnerBros.</td>\n",
       "      <td>France</td>\n",
       "      <td>French</td>\n",
       "      <td>AnupamKher</td>\n",
       "      <td>JesúsFranco</td>\n",
       "      <td>KuangNi</td>\n",
       "    </tr>\n",
       "    <tr>\n",
       "      <th>2</th>\n",
       "      <td>Romance</td>\n",
       "      <td>ColumbiaPictures</td>\n",
       "      <td>UK</td>\n",
       "      <td>Spanish</td>\n",
       "      <td>EricRoberts</td>\n",
       "      <td>LesleySelander</td>\n",
       "      <td>WilliamShakespeare</td>\n",
       "    </tr>\n",
       "    <tr>\n",
       "      <th>3</th>\n",
       "      <td>Action</td>\n",
       "      <td>ParamountPictures</td>\n",
       "      <td>India</td>\n",
       "      <td>Italian</td>\n",
       "      <td>Nassar</td>\n",
       "      <td>RichardThorpe</td>\n",
       "      <td>JesúsFranco</td>\n",
       "    </tr>\n",
       "    <tr>\n",
       "      <th>4</th>\n",
       "      <td>Thriller</td>\n",
       "      <td>TwentiethCenturyFox</td>\n",
       "      <td>Italy</td>\n",
       "      <td>German</td>\n",
       "      <td>PrakashRaj</td>\n",
       "      <td>JohnFord</td>\n",
       "      <td>RobinBhatt</td>\n",
       "    </tr>\n",
       "  </tbody>\n",
       "</table>\n",
       "</div>"
      ],
      "text/plain": [
       "      genre        production_company country language        actors  \\\n",
       "0     Drama  Metro-Goldwyn-Mayer(MGM)     USA  English  Brahmanandam   \n",
       "1    Comedy               WarnerBros.  France   French    AnupamKher   \n",
       "2   Romance          ColumbiaPictures      UK  Spanish   EricRoberts   \n",
       "3    Action         ParamountPictures   India  Italian        Nassar   \n",
       "4  Thriller       TwentiethCenturyFox   Italy   German    PrakashRaj   \n",
       "\n",
       "         director              writer  \n",
       "0   MichaelCurtiz            JingWong  \n",
       "1     JesúsFranco             KuangNi  \n",
       "2  LesleySelander  WilliamShakespeare  \n",
       "3   RichardThorpe         JesúsFranco  \n",
       "4        JohnFord          RobinBhatt  "
      ]
     },
     "execution_count": 25,
     "metadata": {},
     "output_type": "execute_result"
    }
   ],
   "source": [
    "def count_list_cols(s):\n",
    "    return s.str.replace(' ', '').str.split(',').explode().value_counts()\n",
    "def top_vals(s, n):\n",
    "    freq = count_list_cols(s)\n",
    "    return list(freq[:n].index)\n",
    "\n",
    "movies_df[['genre', 'production_company', 'country', 'language', 'actors', 'director', 'writer']].agg(lambda s: top_vals(s, 5))"
   ]
  },
  {
   "cell_type": "markdown",
   "id": "b1ab05bb-227a-4b88-9b01-bf684f44a5cf",
   "metadata": {},
   "source": [
    "- Trực quan tần xuất của các giá trị xuất hiện nhiều nhất của các cột ***genre, production_company, country, language***"
   ]
  },
  {
   "cell_type": "markdown",
   "id": "a746861e-cd31-4957-ae7d-146d1eeddabd",
   "metadata": {},
   "source": [
    "**Tần xuất của 10 giá trị xuất hiện nhiều nhất của cột genre**"
   ]
  },
  {
   "cell_type": "code",
   "execution_count": 26,
   "id": "336c9107-4062-41e3-a64d-1669ced7e9be",
   "metadata": {},
   "outputs": [
    {
     "data": {
      "image/png": "[encoded data removed]",
      "text/plain": [
       "<Figure size 432x288 with 1 Axes>"
      ]
     },
     "metadata": {},
     "output_type": "display_data"
    }
   ],
   "source": [
    "count_list_cols(movies_df.genre)[:10].plot.barh()\n",
    "plt.xlabel('genre')\n",
    "plt.show()"
   ]
  },
  {
   "cell_type": "markdown",
   "id": "50f67fde-b938-4650-8633-dc3dd1978970",
   "metadata": {},
   "source": [
    "**Tần xuất của 10 giá trị xuất hiện nhiều nhất của cột production_company**"
   ]
  },
  {
   "cell_type": "code",
   "execution_count": 27,
   "id": "d3bd3116-4d8c-4a2c-b0b2-7bd25bc001e9",
   "metadata": {},
   "outputs": [
    {
     "data": {
      "image/png": "[encoded data removed]",
      "text/plain": [
       "<Figure size 432x288 with 1 Axes>"
      ]
     },
     "metadata": {},
     "output_type": "display_data"
    }
   ],
   "source": [
    "count_list_cols(movies_df.production_company)[:10].plot.barh()\n",
    "plt.xlabel('production_company')\n",
    "plt.show()"
   ]
  },
  {
   "cell_type": "markdown",
   "id": "8abe10fa-8bd3-4f9a-a9e2-60a7d9b818c8",
   "metadata": {},
   "source": [
    "**Tần xuất của 10 giá trị xuất hiện nhiều nhất của cột country**"
   ]
  },
  {
   "cell_type": "code",
   "execution_count": 28,
   "id": "7f38e94a-a765-4d98-a338-3e9d80c28785",
   "metadata": {},
   "outputs": [
    {
     "data": {
      "image/png": "[encoded data removed]",
      "text/plain": [
       "<Figure size 432x288 with 1 Axes>"
      ]
     },
     "metadata": {},
     "output_type": "display_data"
    }
   ],
   "source": [
    "count_list_cols(movies_df.country)[:10].plot.barh()\n",
    "plt.xlabel('country')\n",
    "plt.show()"
   ]
  },
  {
   "cell_type": "markdown",
   "id": "a136fe5d-0be2-476d-8a56-fea752c3659d",
   "metadata": {},
   "source": [
    "**Tần xuất của 10 giá trị xuất hiện nhiều nhất của cột genre**"
   ]
  },
  {
   "cell_type": "code",
   "execution_count": 29,
   "id": "98d60150-ebfc-4383-a760-f84c4eff0a90",
   "metadata": {
    "scrolled": true
   },
   "outputs": [
    {
     "data": {
      "image/png": "[encoded data removed]",
      "text/plain": [
       "<Figure size 432x288 with 1 Axes>"
      ]
     },
     "metadata": {},
     "output_type": "display_data"
    }
   ],
   "source": [
    "count_list_cols(movies_df.language)[:10].plot.barh()\n",
    "plt.xlabel('language')\n",
    "plt.show()"
   ]
  },
  {
   "cell_type": "markdown",
   "id": "505f7a72-7482-49ab-a606-5f7156e486a3",
   "metadata": {},
   "source": [
    "*Tần xuất của giá trị **USA** trong cột **country** và **English** trong cột **languge** vượt trội hoàn toàn so với các giá trị còn lại, điều này không quá bất ngờ đối với ngành công nghiệp phim ảnh*"
   ]
  },
  {
   "cell_type": "markdown",
   "id": "20b34642-af25-4c06-83bb-f54e862a6677",
   "metadata": {},
   "source": [
    "- Xem thử với các phim tiếng Anh (không cần xét USA vì phim ở USA sẽ bao gồm trong phim tiếng Anh) thì các giá trị xuất hiện nhiều nhất của các cột ***actors, director, writer*** sẽ như thế nào.\n",
    "- Tạo `Eng_df` gồm các phim tiếng Anh (có thể có các thứ tiếng khác) để sử dụng cho các phần sau"
   ]
  },
  {
   "cell_type": "code",
   "execution_count": 30,
   "id": "00f20325-154f-4066-b46c-bf75de61b6c4",
   "metadata": {},
   "outputs": [],
   "source": [
    "Eng_df = movies_df[movies_df.language.apply(lambda x: 'English' in str(x))]"
   ]
  },
  {
   "cell_type": "code",
   "execution_count": 31,
   "id": "898f0b0a-3d4f-4fe3-9c5c-73f9dc3eea83",
   "metadata": {
    "scrolled": true
   },
   "outputs": [
    {
     "data": {
      "text/html": [
       "<div>\n",
       "<style scoped>\n",
       "    .dataframe tbody tr th:only-of-type {\n",
       "        vertical-align: middle;\n",
       "    }\n",
       "\n",
       "    .dataframe tbody tr th {\n",
       "        vertical-align: top;\n",
       "    }\n",
       "\n",
       "    .dataframe thead th {\n",
       "        text-align: right;\n",
       "    }\n",
       "</style>\n",
       "<table border=\"1\" class=\"dataframe\">\n",
       "  <thead>\n",
       "    <tr style=\"text-align: right;\">\n",
       "      <th></th>\n",
       "      <th>actors</th>\n",
       "      <th>director</th>\n",
       "      <th>writer</th>\n",
       "    </tr>\n",
       "  </thead>\n",
       "  <tbody>\n",
       "    <tr>\n",
       "      <th>0</th>\n",
       "      <td>EricRoberts</td>\n",
       "      <td>MichaelCurtiz</td>\n",
       "      <td>WilliamShakespeare</td>\n",
       "    </tr>\n",
       "    <tr>\n",
       "      <th>1</th>\n",
       "      <td>JohnCarradine</td>\n",
       "      <td>LesleySelander</td>\n",
       "      <td>RobertE.Kent</td>\n",
       "    </tr>\n",
       "    <tr>\n",
       "      <th>2</th>\n",
       "      <td>HenryO'Neill</td>\n",
       "      <td>RichardThorpe</td>\n",
       "      <td>BenHecht</td>\n",
       "    </tr>\n",
       "    <tr>\n",
       "      <th>3</th>\n",
       "      <td>MichaelMadsen</td>\n",
       "      <td>WilliamBeaudine</td>\n",
       "      <td>WoodyAllen</td>\n",
       "    </tr>\n",
       "    <tr>\n",
       "      <th>4</th>\n",
       "      <td>JohnWayne</td>\n",
       "      <td>JohnFord</td>\n",
       "      <td>StephenKing</td>\n",
       "    </tr>\n",
       "  </tbody>\n",
       "</table>\n",
       "</div>"
      ],
      "text/plain": [
       "          actors         director              writer\n",
       "0    EricRoberts    MichaelCurtiz  WilliamShakespeare\n",
       "1  JohnCarradine   LesleySelander        RobertE.Kent\n",
       "2   HenryO'Neill    RichardThorpe            BenHecht\n",
       "3  MichaelMadsen  WilliamBeaudine          WoodyAllen\n",
       "4      JohnWayne         JohnFord         StephenKing"
      ]
     },
     "execution_count": 31,
     "metadata": {},
     "output_type": "execute_result"
    }
   ],
   "source": [
    "Eng_df[['actors', 'director', 'writer']].agg(lambda s: top_vals(s, 5))"
   ]
  },
  {
   "cell_type": "markdown",
   "id": "4a2a7d5d-0bfb-4c0f-83be-0d6d1530c928",
   "metadata": {},
   "source": [
    "*Các phim tiếng Anh mặt dù chiếm đa số nhưng không vì vậy mà các giá trị **actors, director, writer** của các phim tiếng Anh sẽ chiếm đa số theo*"
   ]
  },
  {
   "cell_type": "markdown",
   "id": "b9678927-cec4-4639-8e12-2a2080fd6fee",
   "metadata": {},
   "source": [
    "---"
   ]
  },
  {
   "cell_type": "markdown",
   "id": "ca9ab3fc-f7ad-4df7-bc67-0966dde2b642",
   "metadata": {},
   "source": [
    "# Xác định các câu hỏi"
   ]
  },
  {
   "cell_type": "markdown",
   "id": "13fb37a8-f3a5-4528-9a85-f73357def9e5",
   "metadata": {},
   "source": [
    "## Câu hỏi là gì?\n",
    "Đạo diễn nào có nhiều phim rating cao nhất\n",
    "## Nếu trả lời được câu hỏi thì sẽ có lợi ích gì?\n",
    "Dựa vào đó để xem được nhiều phim hay từ đạo diễn này hơn"
   ]
  },
  {
   "cell_type": "code",
   "execution_count": null,
   "id": "7e37d93a-eed5-4000-b78e-384cab31d3c6",
   "metadata": {},
   "outputs": [],
   "source": []
  },
  {
   "cell_type": "markdown",
   "id": "a55fdff7-464a-4f72-9e49-754d1cf784d9",
   "metadata": {},
   "source": [
    "# Phân tích để trả lời"
   ]
  },
  {
   "cell_type": "code",
   "execution_count": null,
   "id": "168cc6fa-0124-42df-9306-bb9f0eeff0b3",
   "metadata": {},
   "outputs": [],
   "source": []
  },
  {
   "cell_type": "markdown",
   "id": "51dc6b4f-0f6e-481e-8f27-b9e893913dff",
   "metadata": {},
   "source": [
    "# Nhìn lại quá trình làm đồ án"
   ]
  },
  {
   "cell_type": "code",
   "execution_count": null,
   "id": "ecb5b078-0ba4-41a1-b302-87e6b8d10a7f",
   "metadata": {},
   "outputs": [],
   "source": []
  },
  {
   "cell_type": "markdown",
   "id": "9a846267-f04c-4d12-975a-22f54e33e70b",
   "metadata": {},
   "source": [
    "# Tài liệu tham khảo"
   ]
  },
  {
   "cell_type": "code",
   "execution_count": null,
   "id": "ad29776c-301b-4d82-81eb-7297c1b84799",
   "metadata": {},
   "outputs": [],
   "source": []
  }
 ],
 "metadata": {
  "kernelspec": {
   "display_name": "Python 3",
   "language": "python",
   "name": "python3"
  },
  "language_info": {
   "codemirror_mode": {
    "name": "ipython",
    "version": 3
   },
   "file_extension": ".py",
   "mimetype": "text/x-python",
   "name": "python",
   "nbconvert_exporter": "python",
   "pygments_lexer": "ipython3",
   "version": "3.8.5"
  },
  "toc-autonumbering": true,
  "toc-showcode": false,
  "toc-showmarkdowntxt": false,
  "toc-showtags": false
 },
 "nbformat": 4,
 "nbformat_minor": 5
}
